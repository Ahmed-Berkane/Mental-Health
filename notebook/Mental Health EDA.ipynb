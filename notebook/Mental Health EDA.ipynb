{
 "cells": [
  {
   "cell_type": "code",
   "execution_count": 6,
   "id": "95771004",
   "metadata": {},
   "outputs": [],
   "source": [
    "import pickle\n",
    "import pandas as pd\n",
    "import numpy as np\n",
    "import matplotlib.pyplot as plt\n",
    "import seaborn as sns\n",
    "from scipy.stats import chi2_contingency\n",
    "from scipy.stats import f_oneway"
   ]
  },
  {
   "cell_type": "code",
   "execution_count": 7,
   "id": "da2f78c7",
   "metadata": {},
   "outputs": [
    {
     "data": {
      "text/html": [
       "<div>\n",
       "<style scoped>\n",
       "    .dataframe tbody tr th:only-of-type {\n",
       "        vertical-align: middle;\n",
       "    }\n",
       "\n",
       "    .dataframe tbody tr th {\n",
       "        vertical-align: top;\n",
       "    }\n",
       "\n",
       "    .dataframe thead th {\n",
       "        text-align: right;\n",
       "    }\n",
       "</style>\n",
       "<table border=\"1\" class=\"dataframe\">\n",
       "  <thead>\n",
       "    <tr style=\"text-align: right;\">\n",
       "      <th></th>\n",
       "      <th>id</th>\n",
       "      <th>Name</th>\n",
       "      <th>Gender</th>\n",
       "      <th>Age</th>\n",
       "      <th>City</th>\n",
       "      <th>Working Professional or Student</th>\n",
       "      <th>Profession</th>\n",
       "      <th>Academic Pressure</th>\n",
       "      <th>Work Pressure</th>\n",
       "      <th>CGPA</th>\n",
       "      <th>Study Satisfaction</th>\n",
       "      <th>Job Satisfaction</th>\n",
       "      <th>Sleep Duration</th>\n",
       "      <th>Dietary Habits</th>\n",
       "      <th>Degree</th>\n",
       "      <th>Have you ever had suicidal thoughts ?</th>\n",
       "      <th>Work/Study Hours</th>\n",
       "      <th>Financial Stress</th>\n",
       "      <th>Family History of Mental Illness</th>\n",
       "      <th>Depression</th>\n",
       "    </tr>\n",
       "  </thead>\n",
       "  <tbody>\n",
       "    <tr>\n",
       "      <th>0</th>\n",
       "      <td>0</td>\n",
       "      <td>Aaradhya</td>\n",
       "      <td>Female</td>\n",
       "      <td>49.0</td>\n",
       "      <td>Ludhiana</td>\n",
       "      <td>Working Professional</td>\n",
       "      <td>Chef</td>\n",
       "      <td>NaN</td>\n",
       "      <td>5.0</td>\n",
       "      <td>NaN</td>\n",
       "      <td>NaN</td>\n",
       "      <td>2.0</td>\n",
       "      <td>More than 8 hours</td>\n",
       "      <td>Healthy</td>\n",
       "      <td>BHM</td>\n",
       "      <td>No</td>\n",
       "      <td>1.0</td>\n",
       "      <td>2.0</td>\n",
       "      <td>No</td>\n",
       "      <td>0</td>\n",
       "    </tr>\n",
       "    <tr>\n",
       "      <th>1</th>\n",
       "      <td>1</td>\n",
       "      <td>Vivan</td>\n",
       "      <td>Male</td>\n",
       "      <td>26.0</td>\n",
       "      <td>Varanasi</td>\n",
       "      <td>Working Professional</td>\n",
       "      <td>Teacher</td>\n",
       "      <td>NaN</td>\n",
       "      <td>4.0</td>\n",
       "      <td>NaN</td>\n",
       "      <td>NaN</td>\n",
       "      <td>3.0</td>\n",
       "      <td>Less than 5 hours</td>\n",
       "      <td>Unhealthy</td>\n",
       "      <td>LLB</td>\n",
       "      <td>Yes</td>\n",
       "      <td>7.0</td>\n",
       "      <td>3.0</td>\n",
       "      <td>No</td>\n",
       "      <td>1</td>\n",
       "    </tr>\n",
       "    <tr>\n",
       "      <th>2</th>\n",
       "      <td>2</td>\n",
       "      <td>Yuvraj</td>\n",
       "      <td>Male</td>\n",
       "      <td>33.0</td>\n",
       "      <td>Visakhapatnam</td>\n",
       "      <td>Student</td>\n",
       "      <td>NaN</td>\n",
       "      <td>5.0</td>\n",
       "      <td>NaN</td>\n",
       "      <td>8.97</td>\n",
       "      <td>2.0</td>\n",
       "      <td>NaN</td>\n",
       "      <td>5-6 hours</td>\n",
       "      <td>Healthy</td>\n",
       "      <td>B.Pharm</td>\n",
       "      <td>Yes</td>\n",
       "      <td>3.0</td>\n",
       "      <td>1.0</td>\n",
       "      <td>No</td>\n",
       "      <td>1</td>\n",
       "    </tr>\n",
       "    <tr>\n",
       "      <th>3</th>\n",
       "      <td>3</td>\n",
       "      <td>Yuvraj</td>\n",
       "      <td>Male</td>\n",
       "      <td>22.0</td>\n",
       "      <td>Mumbai</td>\n",
       "      <td>Working Professional</td>\n",
       "      <td>Teacher</td>\n",
       "      <td>NaN</td>\n",
       "      <td>5.0</td>\n",
       "      <td>NaN</td>\n",
       "      <td>NaN</td>\n",
       "      <td>1.0</td>\n",
       "      <td>Less than 5 hours</td>\n",
       "      <td>Moderate</td>\n",
       "      <td>BBA</td>\n",
       "      <td>Yes</td>\n",
       "      <td>10.0</td>\n",
       "      <td>1.0</td>\n",
       "      <td>Yes</td>\n",
       "      <td>1</td>\n",
       "    </tr>\n",
       "    <tr>\n",
       "      <th>4</th>\n",
       "      <td>4</td>\n",
       "      <td>Rhea</td>\n",
       "      <td>Female</td>\n",
       "      <td>30.0</td>\n",
       "      <td>Kanpur</td>\n",
       "      <td>Working Professional</td>\n",
       "      <td>Business Analyst</td>\n",
       "      <td>NaN</td>\n",
       "      <td>1.0</td>\n",
       "      <td>NaN</td>\n",
       "      <td>NaN</td>\n",
       "      <td>1.0</td>\n",
       "      <td>5-6 hours</td>\n",
       "      <td>Unhealthy</td>\n",
       "      <td>BBA</td>\n",
       "      <td>Yes</td>\n",
       "      <td>9.0</td>\n",
       "      <td>4.0</td>\n",
       "      <td>Yes</td>\n",
       "      <td>0</td>\n",
       "    </tr>\n",
       "  </tbody>\n",
       "</table>\n",
       "</div>"
      ],
      "text/plain": [
       "   id      Name  Gender   Age           City Working Professional or Student  \\\n",
       "0   0  Aaradhya  Female  49.0       Ludhiana            Working Professional   \n",
       "1   1     Vivan    Male  26.0       Varanasi            Working Professional   \n",
       "2   2    Yuvraj    Male  33.0  Visakhapatnam                         Student   \n",
       "3   3    Yuvraj    Male  22.0         Mumbai            Working Professional   \n",
       "4   4      Rhea  Female  30.0         Kanpur            Working Professional   \n",
       "\n",
       "         Profession  Academic Pressure  Work Pressure  CGPA  \\\n",
       "0              Chef                NaN            5.0   NaN   \n",
       "1           Teacher                NaN            4.0   NaN   \n",
       "2               NaN                5.0            NaN  8.97   \n",
       "3           Teacher                NaN            5.0   NaN   \n",
       "4  Business Analyst                NaN            1.0   NaN   \n",
       "\n",
       "   Study Satisfaction  Job Satisfaction     Sleep Duration Dietary Habits  \\\n",
       "0                 NaN               2.0  More than 8 hours        Healthy   \n",
       "1                 NaN               3.0  Less than 5 hours      Unhealthy   \n",
       "2                 2.0               NaN          5-6 hours        Healthy   \n",
       "3                 NaN               1.0  Less than 5 hours       Moderate   \n",
       "4                 NaN               1.0          5-6 hours      Unhealthy   \n",
       "\n",
       "    Degree Have you ever had suicidal thoughts ?  Work/Study Hours  \\\n",
       "0      BHM                                    No               1.0   \n",
       "1      LLB                                   Yes               7.0   \n",
       "2  B.Pharm                                   Yes               3.0   \n",
       "3      BBA                                   Yes              10.0   \n",
       "4      BBA                                   Yes               9.0   \n",
       "\n",
       "   Financial Stress Family History of Mental Illness  Depression  \n",
       "0               2.0                               No           0  \n",
       "1               3.0                               No           1  \n",
       "2               1.0                               No           1  \n",
       "3               1.0                              Yes           1  \n",
       "4               4.0                              Yes           0  "
      ]
     },
     "execution_count": 7,
     "metadata": {},
     "output_type": "execute_result"
    }
   ],
   "source": [
    "df = pd.read_csv('data/Mental_Health.csv')\n",
    "df.head()"
   ]
  },
  {
   "cell_type": "code",
   "execution_count": 8,
   "id": "ede6c7b5",
   "metadata": {},
   "outputs": [
    {
     "data": {
      "text/plain": [
       "(140700, 20)"
      ]
     },
     "execution_count": 8,
     "metadata": {},
     "output_type": "execute_result"
    }
   ],
   "source": [
    "df.shape"
   ]
  },
  {
   "cell_type": "code",
   "execution_count": 9,
   "id": "d2516b22",
   "metadata": {},
   "outputs": [
    {
     "name": "stdout",
     "output_type": "stream",
     "text": [
      "<class 'pandas.core.frame.DataFrame'>\n",
      "RangeIndex: 140700 entries, 0 to 140699\n",
      "Data columns (total 20 columns):\n",
      " #   Column                                 Non-Null Count   Dtype  \n",
      "---  ------                                 --------------   -----  \n",
      " 0   id                                     140700 non-null  int64  \n",
      " 1   Name                                   140700 non-null  object \n",
      " 2   Gender                                 140700 non-null  object \n",
      " 3   Age                                    140700 non-null  float64\n",
      " 4   City                                   140700 non-null  object \n",
      " 5   Working Professional or Student        140700 non-null  object \n",
      " 6   Profession                             104070 non-null  object \n",
      " 7   Academic Pressure                      27897 non-null   float64\n",
      " 8   Work Pressure                          112782 non-null  float64\n",
      " 9   CGPA                                   27898 non-null   float64\n",
      " 10  Study Satisfaction                     27897 non-null   float64\n",
      " 11  Job Satisfaction                       112790 non-null  float64\n",
      " 12  Sleep Duration                         140700 non-null  object \n",
      " 13  Dietary Habits                         140696 non-null  object \n",
      " 14  Degree                                 140698 non-null  object \n",
      " 15  Have you ever had suicidal thoughts ?  140700 non-null  object \n",
      " 16  Work/Study Hours                       140700 non-null  float64\n",
      " 17  Financial Stress                       140696 non-null  float64\n",
      " 18  Family History of Mental Illness       140700 non-null  object \n",
      " 19  Depression                             140700 non-null  int64  \n",
      "dtypes: float64(8), int64(2), object(10)\n",
      "memory usage: 21.5+ MB\n"
     ]
    }
   ],
   "source": [
    "df.info()"
   ]
  },
  {
   "cell_type": "markdown",
   "id": "69f45373",
   "metadata": {},
   "source": [
    "#### Check Duplicates"
   ]
  },
  {
   "cell_type": "code",
   "execution_count": 10,
   "id": "0952c6ec",
   "metadata": {},
   "outputs": [
    {
     "data": {
      "text/plain": [
       "0"
      ]
     },
     "execution_count": 10,
     "metadata": {},
     "output_type": "execute_result"
    }
   ],
   "source": [
    "df.duplicated().sum()"
   ]
  },
  {
   "cell_type": "code",
   "execution_count": 11,
   "id": "41ee876d",
   "metadata": {},
   "outputs": [],
   "source": [
    "cols_te_drop = ['id', 'Name', 'City', 'Profession', 'CGPA', 'Degree']"
   ]
  },
  {
   "cell_type": "code",
   "execution_count": 12,
   "id": "0b419509",
   "metadata": {},
   "outputs": [],
   "source": [
    "df = df.drop(columns = cols_te_drop, axis = 1)"
   ]
  },
  {
   "cell_type": "code",
   "execution_count": 13,
   "id": "1a5c0519",
   "metadata": {},
   "outputs": [
    {
     "data": {
      "text/html": [
       "<div>\n",
       "<style scoped>\n",
       "    .dataframe tbody tr th:only-of-type {\n",
       "        vertical-align: middle;\n",
       "    }\n",
       "\n",
       "    .dataframe tbody tr th {\n",
       "        vertical-align: top;\n",
       "    }\n",
       "\n",
       "    .dataframe thead th {\n",
       "        text-align: right;\n",
       "    }\n",
       "</style>\n",
       "<table border=\"1\" class=\"dataframe\">\n",
       "  <thead>\n",
       "    <tr style=\"text-align: right;\">\n",
       "      <th></th>\n",
       "      <th>Academic Pressure</th>\n",
       "      <th>Work Pressure</th>\n",
       "      <th>Study Satisfaction</th>\n",
       "      <th>Job Satisfaction</th>\n",
       "    </tr>\n",
       "  </thead>\n",
       "  <tbody>\n",
       "    <tr>\n",
       "      <th>0</th>\n",
       "      <td>NaN</td>\n",
       "      <td>5.0</td>\n",
       "      <td>NaN</td>\n",
       "      <td>2.0</td>\n",
       "    </tr>\n",
       "    <tr>\n",
       "      <th>1</th>\n",
       "      <td>NaN</td>\n",
       "      <td>4.0</td>\n",
       "      <td>NaN</td>\n",
       "      <td>3.0</td>\n",
       "    </tr>\n",
       "    <tr>\n",
       "      <th>2</th>\n",
       "      <td>5.0</td>\n",
       "      <td>NaN</td>\n",
       "      <td>2.0</td>\n",
       "      <td>NaN</td>\n",
       "    </tr>\n",
       "    <tr>\n",
       "      <th>3</th>\n",
       "      <td>NaN</td>\n",
       "      <td>5.0</td>\n",
       "      <td>NaN</td>\n",
       "      <td>1.0</td>\n",
       "    </tr>\n",
       "    <tr>\n",
       "      <th>4</th>\n",
       "      <td>NaN</td>\n",
       "      <td>1.0</td>\n",
       "      <td>NaN</td>\n",
       "      <td>1.0</td>\n",
       "    </tr>\n",
       "    <tr>\n",
       "      <th>...</th>\n",
       "      <td>...</td>\n",
       "      <td>...</td>\n",
       "      <td>...</td>\n",
       "      <td>...</td>\n",
       "    </tr>\n",
       "    <tr>\n",
       "      <th>140695</th>\n",
       "      <td>NaN</td>\n",
       "      <td>5.0</td>\n",
       "      <td>NaN</td>\n",
       "      <td>4.0</td>\n",
       "    </tr>\n",
       "    <tr>\n",
       "      <th>140696</th>\n",
       "      <td>NaN</td>\n",
       "      <td>5.0</td>\n",
       "      <td>NaN</td>\n",
       "      <td>4.0</td>\n",
       "    </tr>\n",
       "    <tr>\n",
       "      <th>140697</th>\n",
       "      <td>NaN</td>\n",
       "      <td>3.0</td>\n",
       "      <td>NaN</td>\n",
       "      <td>1.0</td>\n",
       "    </tr>\n",
       "    <tr>\n",
       "      <th>140698</th>\n",
       "      <td>NaN</td>\n",
       "      <td>5.0</td>\n",
       "      <td>NaN</td>\n",
       "      <td>2.0</td>\n",
       "    </tr>\n",
       "    <tr>\n",
       "      <th>140699</th>\n",
       "      <td>4.0</td>\n",
       "      <td>NaN</td>\n",
       "      <td>1.0</td>\n",
       "      <td>NaN</td>\n",
       "    </tr>\n",
       "  </tbody>\n",
       "</table>\n",
       "<p>140700 rows × 4 columns</p>\n",
       "</div>"
      ],
      "text/plain": [
       "        Academic Pressure  Work Pressure  Study Satisfaction  Job Satisfaction\n",
       "0                     NaN            5.0                 NaN               2.0\n",
       "1                     NaN            4.0                 NaN               3.0\n",
       "2                     5.0            NaN                 2.0               NaN\n",
       "3                     NaN            5.0                 NaN               1.0\n",
       "4                     NaN            1.0                 NaN               1.0\n",
       "...                   ...            ...                 ...               ...\n",
       "140695                NaN            5.0                 NaN               4.0\n",
       "140696                NaN            5.0                 NaN               4.0\n",
       "140697                NaN            3.0                 NaN               1.0\n",
       "140698                NaN            5.0                 NaN               2.0\n",
       "140699                4.0            NaN                 1.0               NaN\n",
       "\n",
       "[140700 rows x 4 columns]"
      ]
     },
     "execution_count": 13,
     "metadata": {},
     "output_type": "execute_result"
    }
   ],
   "source": [
    "df[['Academic Pressure', 'Work Pressure', 'Study Satisfaction', 'Job Satisfaction']]"
   ]
  },
  {
   "cell_type": "code",
   "execution_count": 14,
   "id": "27c8fc2a",
   "metadata": {},
   "outputs": [],
   "source": [
    "def Col_merge(df,\n",
    "              col1 = 'Academic Pressure',\n",
    "              col2 = 'Work Pressure',\n",
    "              col3 = 'Study Satisfaction',\n",
    "              col4 = 'Job Satisfaction',\n",
    "              pair1 = True,\n",
    "              pair2 = True):\n",
    "    '''\n",
    "    This function combines Study and Work Pressure/Satisfaction into one column\n",
    "    '''\n",
    "   \n",
    "    if pair1:\n",
    "        df['Academic_Work_Pressure'] = np.maximum(df[col1].fillna(-np.inf), df[col2].fillna(-np.inf)).replace(-np.inf, np.nan)\n",
    "        df = df.drop(columns = ['Work Pressure', 'Academic Pressure'], axis = 1)\n",
    "        \n",
    "    if pair2:\n",
    "        df['Study_Job_Satisfactione'] = np.maximum(df[col3].fillna(-np.inf), df[col4].fillna(-np.inf)).replace(-np.inf, np.nan)\n",
    "        df = df.drop(columns = ['Job Satisfaction', 'Study Satisfaction'], axis = 1)\n",
    "            \n",
    "    return df\n"
   ]
  },
  {
   "cell_type": "code",
   "execution_count": 15,
   "id": "75ecc929",
   "metadata": {},
   "outputs": [
    {
     "data": {
      "text/html": [
       "<div>\n",
       "<style scoped>\n",
       "    .dataframe tbody tr th:only-of-type {\n",
       "        vertical-align: middle;\n",
       "    }\n",
       "\n",
       "    .dataframe tbody tr th {\n",
       "        vertical-align: top;\n",
       "    }\n",
       "\n",
       "    .dataframe thead th {\n",
       "        text-align: right;\n",
       "    }\n",
       "</style>\n",
       "<table border=\"1\" class=\"dataframe\">\n",
       "  <thead>\n",
       "    <tr style=\"text-align: right;\">\n",
       "      <th></th>\n",
       "      <th>Gender</th>\n",
       "      <th>Age</th>\n",
       "      <th>Working Professional or Student</th>\n",
       "      <th>Sleep Duration</th>\n",
       "      <th>Dietary Habits</th>\n",
       "      <th>Have you ever had suicidal thoughts ?</th>\n",
       "      <th>Work/Study Hours</th>\n",
       "      <th>Financial Stress</th>\n",
       "      <th>Family History of Mental Illness</th>\n",
       "      <th>Depression</th>\n",
       "      <th>Academic_Work_Pressure</th>\n",
       "      <th>Study_Job_Satisfactione</th>\n",
       "    </tr>\n",
       "  </thead>\n",
       "  <tbody>\n",
       "    <tr>\n",
       "      <th>0</th>\n",
       "      <td>Female</td>\n",
       "      <td>49.0</td>\n",
       "      <td>Working Professional</td>\n",
       "      <td>More than 8 hours</td>\n",
       "      <td>Healthy</td>\n",
       "      <td>No</td>\n",
       "      <td>1.0</td>\n",
       "      <td>2.0</td>\n",
       "      <td>No</td>\n",
       "      <td>0</td>\n",
       "      <td>5.0</td>\n",
       "      <td>2.0</td>\n",
       "    </tr>\n",
       "    <tr>\n",
       "      <th>1</th>\n",
       "      <td>Male</td>\n",
       "      <td>26.0</td>\n",
       "      <td>Working Professional</td>\n",
       "      <td>Less than 5 hours</td>\n",
       "      <td>Unhealthy</td>\n",
       "      <td>Yes</td>\n",
       "      <td>7.0</td>\n",
       "      <td>3.0</td>\n",
       "      <td>No</td>\n",
       "      <td>1</td>\n",
       "      <td>4.0</td>\n",
       "      <td>3.0</td>\n",
       "    </tr>\n",
       "    <tr>\n",
       "      <th>2</th>\n",
       "      <td>Male</td>\n",
       "      <td>33.0</td>\n",
       "      <td>Student</td>\n",
       "      <td>5-6 hours</td>\n",
       "      <td>Healthy</td>\n",
       "      <td>Yes</td>\n",
       "      <td>3.0</td>\n",
       "      <td>1.0</td>\n",
       "      <td>No</td>\n",
       "      <td>1</td>\n",
       "      <td>5.0</td>\n",
       "      <td>2.0</td>\n",
       "    </tr>\n",
       "    <tr>\n",
       "      <th>3</th>\n",
       "      <td>Male</td>\n",
       "      <td>22.0</td>\n",
       "      <td>Working Professional</td>\n",
       "      <td>Less than 5 hours</td>\n",
       "      <td>Moderate</td>\n",
       "      <td>Yes</td>\n",
       "      <td>10.0</td>\n",
       "      <td>1.0</td>\n",
       "      <td>Yes</td>\n",
       "      <td>1</td>\n",
       "      <td>5.0</td>\n",
       "      <td>1.0</td>\n",
       "    </tr>\n",
       "    <tr>\n",
       "      <th>4</th>\n",
       "      <td>Female</td>\n",
       "      <td>30.0</td>\n",
       "      <td>Working Professional</td>\n",
       "      <td>5-6 hours</td>\n",
       "      <td>Unhealthy</td>\n",
       "      <td>Yes</td>\n",
       "      <td>9.0</td>\n",
       "      <td>4.0</td>\n",
       "      <td>Yes</td>\n",
       "      <td>0</td>\n",
       "      <td>1.0</td>\n",
       "      <td>1.0</td>\n",
       "    </tr>\n",
       "  </tbody>\n",
       "</table>\n",
       "</div>"
      ],
      "text/plain": [
       "   Gender   Age Working Professional or Student     Sleep Duration  \\\n",
       "0  Female  49.0            Working Professional  More than 8 hours   \n",
       "1    Male  26.0            Working Professional  Less than 5 hours   \n",
       "2    Male  33.0                         Student          5-6 hours   \n",
       "3    Male  22.0            Working Professional  Less than 5 hours   \n",
       "4  Female  30.0            Working Professional          5-6 hours   \n",
       "\n",
       "  Dietary Habits Have you ever had suicidal thoughts ?  Work/Study Hours  \\\n",
       "0        Healthy                                    No               1.0   \n",
       "1      Unhealthy                                   Yes               7.0   \n",
       "2        Healthy                                   Yes               3.0   \n",
       "3       Moderate                                   Yes              10.0   \n",
       "4      Unhealthy                                   Yes               9.0   \n",
       "\n",
       "   Financial Stress Family History of Mental Illness  Depression  \\\n",
       "0               2.0                               No           0   \n",
       "1               3.0                               No           1   \n",
       "2               1.0                               No           1   \n",
       "3               1.0                              Yes           1   \n",
       "4               4.0                              Yes           0   \n",
       "\n",
       "   Academic_Work_Pressure  Study_Job_Satisfactione  \n",
       "0                     5.0                      2.0  \n",
       "1                     4.0                      3.0  \n",
       "2                     5.0                      2.0  \n",
       "3                     5.0                      1.0  \n",
       "4                     1.0                      1.0  "
      ]
     },
     "execution_count": 15,
     "metadata": {},
     "output_type": "execute_result"
    }
   ],
   "source": [
    "df = Col_merge(df)\n",
    "df.head()"
   ]
  },
  {
   "cell_type": "code",
   "execution_count": 16,
   "id": "efb427ac",
   "metadata": {},
   "outputs": [
    {
     "name": "stdout",
     "output_type": "stream",
     "text": [
      "Gender\n",
      "Male      77464\n",
      "Female    63236\n",
      "Name: count, dtype: int64\n",
      "Working Professional or Student\n",
      "Working Professional    112799\n",
      "Student                  27901\n",
      "Name: count, dtype: int64\n",
      "Sleep Duration\n",
      "Less than 5 hours    38784\n",
      "7-8 hours            36969\n",
      "More than 8 hours    32726\n",
      "5-6 hours            32142\n",
      "3-4 hours               12\n",
      "6-7 hours                8\n",
      "4-5 hours                7\n",
      "2-3 hours                5\n",
      "4-6 hours                5\n",
      "6-8 hours                4\n",
      "1-6 hours                4\n",
      "No                       4\n",
      "9-11 hours               2\n",
      "10-11 hours              2\n",
      "Sleep_Duration           2\n",
      "Unhealthy                2\n",
      "45                       2\n",
      "8-9 hours                2\n",
      "10-6 hours               1\n",
      "9-5                      1\n",
      "45-48 hours              1\n",
      "3-6 hours                1\n",
      "Work_Study_Hours         1\n",
      "49 hours                 1\n",
      "than 5 hours             1\n",
      "Pune                     1\n",
      "9-6 hours                1\n",
      "8 hours                  1\n",
      "35-36 hours              1\n",
      "Indore                   1\n",
      "1-3 hours                1\n",
      "55-66 hours              1\n",
      "Moderate                 1\n",
      "40-45 hours              1\n",
      "1-2 hours                1\n",
      "9-5 hours                1\n",
      "Name: count, dtype: int64\n",
      "Dietary Habits\n",
      "Moderate             49705\n",
      "Unhealthy            46227\n",
      "Healthy              44741\n",
      "Yes                      2\n",
      "No                       2\n",
      "More Healthy             2\n",
      "No Healthy               1\n",
      "Class 12                 1\n",
      "Indoor                   1\n",
      "Male                     1\n",
      "Vegas                    1\n",
      "M.Tech                   1\n",
      "Less Healthy             1\n",
      "1.0                      1\n",
      "Electrician              1\n",
      "Hormonal                 1\n",
      "Mihir                    1\n",
      "Less than Healthy        1\n",
      "3                        1\n",
      "Gender                   1\n",
      "BSc                      1\n",
      "Pratham                  1\n",
      "2                        1\n",
      "Name: count, dtype: int64\n",
      "Have you ever had suicidal thoughts ?\n",
      "No     71138\n",
      "Yes    69562\n",
      "Name: count, dtype: int64\n",
      "Work/Study Hours\n",
      "10.0    14199\n",
      "11.0    12832\n",
      "9.0     12711\n",
      "0.0     12066\n",
      "12.0    11409\n",
      "2.0     10595\n",
      "6.0     10432\n",
      "7.0      9872\n",
      "1.0      9802\n",
      "3.0      9474\n",
      "5.0      9337\n",
      "4.0      9065\n",
      "8.0      8906\n",
      "Name: count, dtype: int64\n",
      "Financial Stress\n",
      "2.0    31451\n",
      "5.0    28279\n",
      "4.0    27765\n",
      "1.0    27211\n",
      "3.0    25990\n",
      "Name: count, dtype: int64\n",
      "Family History of Mental Illness\n",
      "No     70758\n",
      "Yes    69942\n",
      "Name: count, dtype: int64\n",
      "Depression\n",
      "0    115133\n",
      "1     25567\n",
      "Name: count, dtype: int64\n",
      "Academic_Work_Pressure\n",
      "3.0    29362\n",
      "5.0    28732\n",
      "2.0    28552\n",
      "4.0    27670\n",
      "1.0    26363\n",
      "Name: count, dtype: int64\n",
      "Study_Job_Satisfactione\n",
      "2.0    30622\n",
      "1.0    27775\n",
      "3.0    27773\n",
      "4.0    27280\n",
      "5.0    27235\n",
      "Name: count, dtype: int64\n"
     ]
    }
   ],
   "source": [
    "for item in df.columns:\n",
    "    if item == 'Age':\n",
    "        pass\n",
    "    else:\n",
    "        print(f'{df[item].value_counts()}')"
   ]
  },
  {
   "cell_type": "markdown",
   "id": "e0e42506",
   "metadata": {},
   "source": [
    "**Gender**: There is a higher representation of males (77,464) than females (63,236). This ***imbalance*** might need attention in modeling to avoid bias, depending on the research goals.\n",
    "\n",
    "**Profession**: \"Working Professional\" vastly outnumbers \"Student,\" with 112,799 vs. 27,901. ***This might suggest a predominance of adult data points***, likely influencing analysis if work-related stress is studied.\n",
    "\n",
    "**Sleep Duration**: This feature has multiple low-frequency and inconsistent entries (e.g., \"9-5,\" \"Pune,\" \"than 5 hours,\" etc.), indicating possible data entry errors. Cleaning and grouping the durations into consistent categories (e.g., 3-4, 5-6, 7-8 hours) could enhance reliability.\n",
    "\n",
    "**Dietary Habits**: This column contains mostly expected categories (e.g., Moderate, Unhealthy, Healthy), but a few stray entries, like \"Yes,\" \"Male,\" and even individual names (\"Mihir\"). These likely reflect errors needing correction for consistent dietary categories.\n",
    "\n",
    "**Suicidal Thoughts**: The responses are well-organized with binary \"Yes\" and \"No\" values, showing near-equal distribution, which could indicate that this dataset captures diverse mental health experiences.\n",
    "\n",
    "**Work/Study Hours**: Values from 0 to 12 show a nearly uniform distribution of hours. This setup suggests hours are captured as numeric, which could work well in quantitative analysis.\n",
    "\n",
    "**Financial Stress, Family History, and Depression**: These have a balanced distribution that may make them reliable predictors in models related to mental health.\n",
    "\n",
    "**Academic Work Pressure and Study/Job Satisfaction**: These ordinal features display a spread across ratings from 1.0 to 5.0, showing variability in pressure and satisfaction. The consistency here suggests they can be useful in modeling without much transformation."
   ]
  },
  {
   "cell_type": "markdown",
   "id": "69580efe",
   "metadata": {},
   "source": [
    "#### Categorizing Sleep Duration with Irregular Data Handling"
   ]
  },
  {
   "cell_type": "code",
   "execution_count": 17,
   "id": "a4e7c365",
   "metadata": {},
   "outputs": [],
   "source": [
    "def group_sleep_hours(value):\n",
    "    '''\n",
    "    This function groups the original categories into more natural categorical grouping\n",
    "    '''\n",
    "    if value in ['Less than 5 hours', '2-3 hours', '1-3 hours', '1-2 hours']:\n",
    "        return 'Low Sleep'\n",
    "    elif value in ['5-6 hours', '6-7 hours', '4-5 hours', '6-8 hours', '7-8 hours', '8 hours']:\n",
    "        return 'Moderate Sleep'\n",
    "    elif value in ['More than 8 hours', '9-11 hours', '10-11 hours', '8-9 hours']:\n",
    "        return 'High Sleep'\n",
    "    else:\n",
    "        return 'Other'\n",
    "\n",
    "\n",
    "df['Sleep_Duration_Category'] = df['Sleep Duration'].apply(group_sleep_hours)\n",
    "\n",
    "# Create a mapping dictionary for future use when we will have new unseen data.\n",
    "mapping_sleep = dict(zip(df['Sleep Duration'], df['Sleep_Duration_Category']))\n",
    "\n",
    "# Save the mapping_sleep dictionary to a pickle file\n",
    "with open('mapping_sleep.pkl', 'wb') as f:\n",
    "    pickle.dump(mapping_sleep, f)"
   ]
  },
  {
   "cell_type": "code",
   "execution_count": 18,
   "id": "f5b54f60",
   "metadata": {},
   "outputs": [],
   "source": [
    "# Function to group rare categories into 'Other'\n",
    "\n",
    "def group_categories(series, main_categories):\n",
    "    '''\n",
    "    This function groups the incorrect caegories into 'Oher' category\n",
    "    '''\n",
    "    return series.apply(lambda x: x if x in main_categories else 'Other')\n",
    "\n",
    "# Apply the grouping function \n",
    "df['Dietary_Habits_Category'] = group_categories(df['Dietary Habits'], ['Moderate', 'Unhealthy', 'Healthy'])\n",
    "\n",
    "# Create a mapping dictionary for future use when we will have new unseen data.\n",
    "mapping_diet = dict(zip(df['Dietary Habits'], df['Dietary_Habits_Category']))\n",
    "\n",
    "# Save the mapping_diet  dictionary to a pickle file\n",
    "with open('mapping_diet.pkl', 'wb') as f:\n",
    "    pickle.dump(mapping_diet , f)"
   ]
  },
  {
   "cell_type": "code",
   "execution_count": 19,
   "id": "a1a91e5a",
   "metadata": {},
   "outputs": [
    {
     "name": "stdout",
     "output_type": "stream",
     "text": [
      "Dietary_Habits_Category\n",
      "Moderate     49705\n",
      "Unhealthy    46227\n",
      "Healthy      44741\n",
      "Other           27\n",
      "Name: count, dtype: int64\n",
      "Sleep_Duration_Category\n",
      "Moderate Sleep    69131\n",
      "Low Sleep         38791\n",
      "High Sleep        32732\n",
      "Other                46\n",
      "Name: count, dtype: int64\n"
     ]
    }
   ],
   "source": [
    "for item in ['Dietary_Habits_Category','Sleep_Duration_Category']:\n",
    "    print(f'{df[item].value_counts()}')"
   ]
  },
  {
   "cell_type": "markdown",
   "id": "4d0392bb",
   "metadata": {},
   "source": [
    "#### Check missing values"
   ]
  },
  {
   "cell_type": "code",
   "execution_count": 20,
   "id": "060a7f04",
   "metadata": {},
   "outputs": [
    {
     "data": {
      "text/plain": [
       "Gender                                    0\n",
       "Age                                       0\n",
       "Working Professional or Student           0\n",
       "Sleep Duration                            0\n",
       "Dietary Habits                            4\n",
       "Have you ever had suicidal thoughts ?     0\n",
       "Work/Study Hours                          0\n",
       "Financial Stress                          4\n",
       "Family History of Mental Illness          0\n",
       "Depression                                0\n",
       "Academic_Work_Pressure                   21\n",
       "Study_Job_Satisfactione                  15\n",
       "Sleep_Duration_Category                   0\n",
       "Dietary_Habits_Category                   0\n",
       "dtype: int64"
      ]
     },
     "execution_count": 20,
     "metadata": {},
     "output_type": "execute_result"
    }
   ],
   "source": [
    "df.isna().sum()"
   ]
  },
  {
   "cell_type": "markdown",
   "id": "9546f911",
   "metadata": {},
   "source": [
    "The dataset has minimal missing values, with the most missing in ***Academic_Work_Pressure*** (21) and ***Study_Job_Satisfactione*** (15). These missing values should be handled through imputation or removal for accurate analysis."
   ]
  },
  {
   "cell_type": "code",
   "execution_count": 21,
   "id": "bf66ea85",
   "metadata": {},
   "outputs": [],
   "source": [
    "df = df.drop(columns = ['Dietary Habits', 'Sleep Duration'], axis = 1)"
   ]
  },
  {
   "cell_type": "markdown",
   "id": "d8fee5fe",
   "metadata": {},
   "source": [
    "#### The Distribution of The Target Feature."
   ]
  },
  {
   "cell_type": "code",
   "execution_count": 22,
   "id": "dc968b2b",
   "metadata": {},
   "outputs": [
    {
     "data": {
      "text/plain": [
       "Depression\n",
       "0    115133\n",
       "1     25567\n",
       "Name: count, dtype: int64"
      ]
     },
     "execution_count": 22,
     "metadata": {},
     "output_type": "execute_result"
    }
   ],
   "source": [
    "df['Depression'].value_counts()"
   ]
  },
  {
   "cell_type": "code",
   "execution_count": 23,
   "id": "95e73a02",
   "metadata": {},
   "outputs": [
    {
     "data": {
      "text/plain": [
       "''"
      ]
     },
     "execution_count": 23,
     "metadata": {},
     "output_type": "execute_result"
    },
    {
     "data": {
      "image/png": "[encoded data removed]",
      "text/plain": [
       "<Figure size 2000x1000 with 1 Axes>"
      ]
     },
     "metadata": {},
     "output_type": "display_data"
    }
   ],
   "source": [
    "fig = plt.figure(figsize=(10,5),dpi=200)\n",
    "ax = fig.add_axes([0,0,1,1])\n",
    "\n",
    "sns.countplot(data = df,\n",
    "              x = 'Depression')\n",
    "\n",
    "# Add a title\n",
    "ax.set_title('Depression Distribution',fontsize = 20,loc = 'Center')\n",
    ";"
   ]
  },
  {
   "cell_type": "markdown",
   "id": "78dcf1ad",
   "metadata": {},
   "source": [
    "The target variable **Depression** has an imbalanced class distribution, with 115,133 instances of \"0\" (no depression) and 25,567 instances of \"1\" (depressed). This imbalance could lead to biased model performance, so techniques like oversampling, undersampling, or using class weights might be helpful for training."
   ]
  },
  {
   "cell_type": "markdown",
   "id": "d6a95942",
   "metadata": {},
   "source": [
    "#### Visualizing the relationship between the target and predictors"
   ]
  },
  {
   "cell_type": "code",
   "execution_count": 24,
   "id": "12803618",
   "metadata": {},
   "outputs": [],
   "source": [
    "df.rename(columns={'Working Professional or Student': 'Professional_Student',\n",
    "                  'Have you ever had suicidal thoughts ?': 'suicidal',\n",
    "                  'Work/Study Hours': 'Work_Study_Hours',\n",
    "                  'Family History of Mental Illness': 'Family_History'}, inplace=True)"
   ]
  },
  {
   "cell_type": "code",
   "execution_count": 25,
   "id": "146098ee",
   "metadata": {},
   "outputs": [
    {
     "data": {
      "text/plain": [
       "''"
      ]
     },
     "execution_count": 25,
     "metadata": {},
     "output_type": "execute_result"
    },
    {
     "data": {
      "image/png": "[encoded data removed]",
      "text/plain": [
       "<Figure size 1500x2000 with 12 Axes>"
      ]
     },
     "metadata": {},
     "output_type": "display_data"
    },
    {
     "data": {
      "text/plain": [
       "<Figure size 2000x1000 with 0 Axes>"
      ]
     },
     "metadata": {},
     "output_type": "display_data"
    }
   ],
   "source": [
    "fig, axes = plt.subplots(nrows = 4, ncols = 3, figsize = (15, 20))\n",
    "\n",
    "plt.subplots_adjust(hspace = 1, wspace = 0.5)\n",
    "\n",
    "\n",
    "plt.figure(figsize=(10,5),dpi=200)\n",
    "\n",
    "sns.countplot(data = df,\n",
    "              x = 'Depression',\n",
    "              hue = 'Gender',\n",
    "              ax = axes[0,0])\n",
    "\n",
    "sns.countplot(data = df,\n",
    "              x = 'Depression',\n",
    "              hue = 'Professional_Student',\n",
    "             ax = axes[0,1])\n",
    "\n",
    "sns.countplot(data = df,\n",
    "              x = 'Depression',\n",
    "              hue = 'suicidal',\n",
    "              ax = axes[0,2])\n",
    "\n",
    "sns.countplot(data = df,\n",
    "              x = 'Depression',\n",
    "              hue = 'Financial Stress',\n",
    "              ax = axes[1,0])\n",
    "\n",
    "sns.countplot(data = df,\n",
    "              x = 'Depression',\n",
    "              hue = 'Family_History',\n",
    "              ax = axes[1,1])\n",
    "\n",
    "sns.countplot(data = df,\n",
    "              x = 'Depression',\n",
    "              hue = 'Academic_Work_Pressure',\n",
    "              ax = axes[1,2])\n",
    "\n",
    "sns.countplot(data = df,\n",
    "              x = 'Depression',\n",
    "              hue = 'Study_Job_Satisfactione',\n",
    "              ax = axes[2,0])\n",
    "\n",
    "sns.countplot(data = df,\n",
    "              x = 'Depression',\n",
    "              hue = 'Sleep_Duration_Category',\n",
    "              ax = axes[2,1])\n",
    "\n",
    "sns.countplot(data = df,\n",
    "              x = 'Depression',\n",
    "              hue = 'Dietary_Habits_Category',\n",
    "              ax = axes[2,2])\n",
    "\n",
    "sns.barplot(data = df,\n",
    "              x = 'Depression',\n",
    "              y = 'Age',\n",
    "              ax = axes[3,0])\n",
    "\n",
    "sns.barplot(data = df,\n",
    "              x = 'Depression',\n",
    "              y = 'Work_Study_Hours',\n",
    "              ax = axes[3,1])\n",
    "\n",
    "# Turn off the subplot at position (3, 2)\n",
    "axes[3, 2].axis('off')\n",
    "    \n",
    "plt.tight_layout()\n",
    ";"
   ]
  },
  {
   "cell_type": "markdown",
   "id": "eecd5b85",
   "metadata": {},
   "source": [
    "\n",
    "These visualizations collectively highlight the relationships between demographic, lifestyle, psychological factors, and **Depression**:\n",
    "\n",
    "* **Gender, Professional/Student Status, and Suicidal Thoughts**: Higher rates of depression are observed among males, students, and individuals who have experienced suicidal thoughts, indicating that these factors could significantly influence mental health outcomes.\n",
    "\n",
    "* **Financial Stress, Academic/Work Pressure, and Job Satisfaction**: Increased financial stress, higher academic/work pressure, and lower job satisfaction correlate with a greater likelihood of depression. These patterns suggest that economic and workload pressures are substantial stressors.\n",
    "\n",
    "* **Sleep and Dietary Habits**: Individuals with moderate or low sleep and unhealthy dietary habits are more likely to be depressed, implying that lifestyle habits impact mental health.\n",
    "\n",
    "* **Age and Work/Study Hours**: Those with depression tend to be younger and report higher work/study hours on average, suggesting that younger individuals under heavy workload may be at a higher risk of depression.\n",
    "\n",
    "* **Family History of Mental Illness**: Depression is slightly more prevalent among those with a family history of mental illness, but the effect is moderate. This suggests family history might contribute to depression risk but is not a sole predictor."
   ]
  },
  {
   "cell_type": "markdown",
   "id": "e91a9413",
   "metadata": {},
   "source": [
    "### Hypothesis Testing"
   ]
  },
  {
   "cell_type": "markdown",
   "id": "a57f2a9b",
   "metadata": {},
   "source": [
    "* The null hypothesis (H₀) assumes no association or no difference.\n",
    "* The alternative hypothesis (H₁) suggests an association or difference exists."
   ]
  },
  {
   "cell_type": "code",
   "execution_count": 27,
   "id": "b63df96c",
   "metadata": {},
   "outputs": [],
   "source": [
    "cat_cols = ['Gender', 'Professional_Student', 'suicidal','Financial Stress', \n",
    "            'Family_History', 'Academic_Work_Pressure', 'Study_Job_Satisfactione', \n",
    "            'Sleep_Duration_Category', 'Dietary_Habits_Category']\n",
    "\n",
    "num_cols = ['Age', 'Work_Study_Hours']\n",
    "\n",
    "target = 'Depression'"
   ]
  },
  {
   "cell_type": "markdown",
   "id": "ae4e605c",
   "metadata": {},
   "source": [
    "### Chi-Square Test for Categorical Features"
   ]
  },
  {
   "cell_type": "markdown",
   "id": "4c0aad30",
   "metadata": {},
   "source": [
    "The Chi-Square Test of Independence is used to test if there’s an association between two categorical variables. It’s particularly useful for checking if a feature is related to the target variable"
   ]
  },
  {
   "cell_type": "code",
   "execution_count": 28,
   "id": "dd15fb09",
   "metadata": {},
   "outputs": [
    {
     "name": "stdout",
     "output_type": "stream",
     "text": [
      "Feature: Gender\n",
      "  Chi-Square Statistic: 9.289548293527956\n",
      "  p-value: 0.0023046498245997494\n",
      "  Degree of freedom: 1\n",
      "  -> Significant association with Depression\n",
      "------\n",
      "Feature: Professional_Student\n",
      "  Chi-Square Statistic: 38157.58582778027\n",
      "  p-value: 0.0\n",
      "  Degree of freedom: 1\n",
      "  -> Significant association with Depression\n",
      "------\n",
      "Feature: suicidal\n",
      "  Chi-Square Statistic: 17142.05535807986\n",
      "  p-value: 0.0\n",
      "  Degree of freedom: 1\n",
      "  -> Significant association with Depression\n",
      "------\n",
      "Feature: Financial Stress\n",
      "  Chi-Square Statistic: 7728.195132162486\n",
      "  p-value: 0.0\n",
      "  Degree of freedom: 4\n",
      "  -> Significant association with Depression\n",
      "------\n",
      "Feature: Family_History\n",
      "  Chi-Square Statistic: 38.22732530289218\n",
      "  p-value: 6.296449268433189e-10\n",
      "  Degree of freedom: 1\n",
      "  -> Significant association with Depression\n",
      "------\n",
      "Feature: Academic_Work_Pressure\n",
      "  Chi-Square Statistic: 10159.710045343953\n",
      "  p-value: 0.0\n",
      "  Degree of freedom: 4\n",
      "  -> Significant association with Depression\n",
      "------\n",
      "Feature: Study_Job_Satisfactione\n",
      "  Chi-Square Statistic: 3058.2762706828225\n",
      "  p-value: 0.0\n",
      "  Degree of freedom: 4\n",
      "  -> Significant association with Depression\n",
      "------\n",
      "Feature: Sleep_Duration_Category\n",
      "  Chi-Square Statistic: 1179.919356630817\n",
      "  p-value: 1.6672510175112202e-255\n",
      "  Degree of freedom: 3\n",
      "  -> Significant association with Depression\n",
      "------\n",
      "Feature: Dietary_Habits_Category\n",
      "  Chi-Square Statistic: 3242.4422055897185\n",
      "  p-value: 0.0\n",
      "  Degree of freedom: 3\n",
      "  -> Significant association with Depression\n",
      "------\n"
     ]
    }
   ],
   "source": [
    "# Chi-Square Test for each categorical feature\n",
    "for col in cat_cols:\n",
    "    contingency_table = pd.crosstab(df[col], df[target])\n",
    "    chi2, p, dof, expected = chi2_contingency(contingency_table)\n",
    "    print(f\"Feature: {col}\")\n",
    "    print(\"  Chi-Square Statistic:\", chi2)\n",
    "    print(\"  p-value:\", p)\n",
    "    print(\"  Degree of freedom:\", dof)\n",
    "    if p < 0.05:\n",
    "        print(f\"  -> Significant association with {target}\")\n",
    "    else:\n",
    "        print(f\"  -> No significant association with {target}\")\n",
    "    print(\"------\")"
   ]
  },
  {
   "cell_type": "markdown",
   "id": "852483c5",
   "metadata": {},
   "source": [
    "All features show a significant association with **Depression**, but **Academic_Work_Pressure** has a much higher chi-square statistic than **Study_Job_Satisfactione**. Since these two may be correlated, I’ll drop Study_Job_Satisfactione and keep **Academic_Work_Pressure** due to its stronger association with the target."
   ]
  },
  {
   "cell_type": "markdown",
   "id": "26d3893a",
   "metadata": {},
   "source": [
    "### ANOVA for Continuous Features"
   ]
  },
  {
   "cell_type": "markdown",
   "id": "6d925633",
   "metadata": {},
   "source": [
    "ANOVA is used to compare the means of a continuous feature across different categories of a categorical variable (like Target Feature) to see if the mean differs significantly between categories."
   ]
  },
  {
   "cell_type": "code",
   "execution_count": 29,
   "id": "355b08b6",
   "metadata": {},
   "outputs": [
    {
     "name": "stdout",
     "output_type": "stream",
     "text": [
      "Feature: Age\n",
      "  F-Statistic: 65862.57946791122\n",
      "  p-value: 0.0\n",
      "  -> Significant difference in means across Depression\n",
      "------\n",
      "Feature: Work_Study_Hours\n",
      "  F-Statistic: 5370.440440987415\n",
      "  p-value: 0.0\n",
      "  -> Significant difference in means across Depression\n",
      "------\n"
     ]
    }
   ],
   "source": [
    "for col in num_cols:\n",
    "    # Split the feature values based on the target categories\n",
    "    groups = [df[df[target] == category][col] for category in df[target].unique()]\n",
    "    \n",
    "    # Perform ANOVA\n",
    "    f_stat, p = f_oneway(*groups)\n",
    "    print(f\"Feature: {col}\")\n",
    "    print(\"  F-Statistic:\", f_stat)\n",
    "    print(\"  p-value:\", p)\n",
    "    if p < 0.05:\n",
    "        print(f\"  -> Significant difference in means across {target}\")\n",
    "    else:\n",
    "        print(f\"  -> No significant difference in means across {target}\")\n",
    "    print(\"------\")"
   ]
  }
 ],
 "metadata": {
  "kernelspec": {
   "display_name": "Python 3",
   "language": "python",
   "name": "python3"
  },
  "language_info": {
   "codemirror_mode": {
    "name": "ipython",
    "version": 3
   },
   "file_extension": ".py",
   "mimetype": "text/x-python",
   "name": "python",
   "nbconvert_exporter": "python",
   "pygments_lexer": "ipython3",
   "version": "3.11.11"
  }
 },
 "nbformat": 4,
 "nbformat_minor": 5
}
