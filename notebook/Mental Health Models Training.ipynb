{
 "cells": [
  {
   "cell_type": "code",
   "execution_count": 72,
   "id": "5742d148",
   "metadata": {},
   "outputs": [],
   "source": [
    "import warnings\n",
    "import pickle\n",
    "import pandas as pd\n",
    "import numpy as np\n",
    "\n",
    "from sklearn.model_selection import train_test_split\n",
    "from sklearn.impute import SimpleImputer\n",
    "from sklearn.preprocessing import StandardScaler\n",
    "from sklearn.preprocessing import OneHotEncoder, OrdinalEncoder\n",
    "from sklearn.pipeline import Pipeline\n",
    "from sklearn.compose import ColumnTransformer\n",
    "\n",
    "\n",
    "from sklearn.model_selection import GridSearchCV\n",
    "from sklearn.model_selection import cross_val_score\n",
    "from sklearn.linear_model import LogisticRegression\n",
    "from sklearn.tree import DecisionTreeClassifier\n",
    "from sklearn.ensemble import RandomForestClassifier\n",
    "from xgboost import XGBClassifier\n",
    "from catboost import CatBoostClassifier\n",
    "from sklearn.svm import SVC\n",
    "from sklearn.neighbors import KNeighborsClassifier\n",
    "from sklearn.linear_model import SGDClassifier\n",
    "from sklearn.discriminant_analysis import LinearDiscriminantAnalysis\n",
    "\n",
    "from sklearn.metrics import accuracy_score, confusion_matrix, precision_score, recall_score,f1_score, PrecisionRecallDisplay, RocCurveDisplay\n",
    "\n",
    "from joblib import dump,load"
   ]
  },
  {
   "cell_type": "code",
   "execution_count": 4,
   "id": "aee4c2b9",
   "metadata": {},
   "outputs": [],
   "source": [
    "# Load the mapping_sleep dictionary from the pickle file\n",
    "with open('mapping_sleep.pkl', 'rb') as f:\n",
    "    mapping_sleep = pickle.load(f)\n",
    "    \n",
    "# Load the mapping_sleep dictionary from the pickle file\n",
    "with open('mapping_diet.pkl', 'rb') as f:\n",
    "    mapping_diet = pickle.load(f)\n",
    "    \n",
    "# Load the data \n",
    "df = pd.read_csv('train.csv')"
   ]
  },
  {
   "cell_type": "code",
   "execution_count": 5,
   "id": "0f8cf175",
   "metadata": {},
   "outputs": [],
   "source": [
    "cols_te_drop = ['id', 'Name', 'City', 'Profession', 'CGPA', 'Degree', 'Work Pressure', 'Academic Pressure', \n",
    "                'Study Satisfaction', 'Job Satisfaction', 'Sleep Duration', 'Dietary Habits']"
   ]
  },
  {
   "cell_type": "code",
   "execution_count": 6,
   "id": "fb856503",
   "metadata": {},
   "outputs": [],
   "source": [
    "def data_prep(df,\n",
    "              col1 = 'Academic Pressure',\n",
    "              col2 = 'Work Pressure',\n",
    "              col3 = 'Study Satisfaction',\n",
    "              col4 = 'Job Satisfaction',\n",
    "              col_drop = cols_te_drop):\n",
    "    '''\n",
    "    Step 1: Combines Study and Work Pressure into one column\n",
    "    Step 2: Creates sleep_dur_cat by grouping incorrect leep Duration levels\n",
    "    Step 3: Creates Diet_cat by grouping incorrect leep Duration levels\n",
    "    Step 4: Renaming columns\n",
    "    Step 5: Drop irrelevant columns\n",
    "    \n",
    "    '''\n",
    "    \n",
    "    df['academic_work_pressure'] = np.maximum(df[col1].fillna(-np.inf), df[col2].fillna(-np.inf)).replace(-np.inf, np.nan)\n",
    "    #df['academic_work_satisfaction'] = np.maximum(df[col3].fillna(-np.inf), df[col4].fillna(-np.inf)).replace(-np.inf, np.nan)\n",
    "        \n",
    "    # Step 2\n",
    "    df['sleep_dur_cat'] = df['Sleep Duration'].map(mapping_sleep)\n",
    "    \n",
    "    # Step 3\n",
    "    df['diet_cat'] = df['Dietary Habits'].map(mapping_diet)\n",
    "    \n",
    "    # Step 4\n",
    "    df = df.rename(columns = {'Working Professional or Student': 'prof_or_student',\n",
    "                              'Have you ever had suicidal thoughts ?': 'suicidal',\n",
    "                              'Work/Study Hours': 'work_study_hours',\n",
    "                              'Family History of Mental Illness': 'family_hist',\n",
    "                              'Gender': 'gender',\n",
    "                              'Age': 'age',\n",
    "                              'Depression': 'depression',\n",
    "                              'Financial Stress': 'financial_stress'})\n",
    "    \n",
    "    # Step 5\n",
    "    df = df.drop(columns = col_drop, axis = 1)\n",
    "    \n",
    "    return df"
   ]
  },
  {
   "cell_type": "code",
   "execution_count": 7,
   "id": "c7ee0001",
   "metadata": {},
   "outputs": [
    {
     "data": {
      "text/html": [
       "<div>\n",
       "<style scoped>\n",
       "    .dataframe tbody tr th:only-of-type {\n",
       "        vertical-align: middle;\n",
       "    }\n",
       "\n",
       "    .dataframe tbody tr th {\n",
       "        vertical-align: top;\n",
       "    }\n",
       "\n",
       "    .dataframe thead th {\n",
       "        text-align: right;\n",
       "    }\n",
       "</style>\n",
       "<table border=\"1\" class=\"dataframe\">\n",
       "  <thead>\n",
       "    <tr style=\"text-align: right;\">\n",
       "      <th></th>\n",
       "      <th>gender</th>\n",
       "      <th>age</th>\n",
       "      <th>prof_or_student</th>\n",
       "      <th>suicidal</th>\n",
       "      <th>work_study_hours</th>\n",
       "      <th>financial_stress</th>\n",
       "      <th>family_hist</th>\n",
       "      <th>depression</th>\n",
       "      <th>academic_work_pressure</th>\n",
       "      <th>sleep_dur_cat</th>\n",
       "      <th>diet_cat</th>\n",
       "    </tr>\n",
       "  </thead>\n",
       "  <tbody>\n",
       "    <tr>\n",
       "      <th>0</th>\n",
       "      <td>Female</td>\n",
       "      <td>49.0</td>\n",
       "      <td>Working Professional</td>\n",
       "      <td>No</td>\n",
       "      <td>1.0</td>\n",
       "      <td>2.0</td>\n",
       "      <td>No</td>\n",
       "      <td>0</td>\n",
       "      <td>5.0</td>\n",
       "      <td>High Sleep</td>\n",
       "      <td>Healthy</td>\n",
       "    </tr>\n",
       "    <tr>\n",
       "      <th>1</th>\n",
       "      <td>Male</td>\n",
       "      <td>26.0</td>\n",
       "      <td>Working Professional</td>\n",
       "      <td>Yes</td>\n",
       "      <td>7.0</td>\n",
       "      <td>3.0</td>\n",
       "      <td>No</td>\n",
       "      <td>1</td>\n",
       "      <td>4.0</td>\n",
       "      <td>Low Sleep</td>\n",
       "      <td>Unhealthy</td>\n",
       "    </tr>\n",
       "    <tr>\n",
       "      <th>2</th>\n",
       "      <td>Male</td>\n",
       "      <td>33.0</td>\n",
       "      <td>Student</td>\n",
       "      <td>Yes</td>\n",
       "      <td>3.0</td>\n",
       "      <td>1.0</td>\n",
       "      <td>No</td>\n",
       "      <td>1</td>\n",
       "      <td>5.0</td>\n",
       "      <td>Moderate Sleep</td>\n",
       "      <td>Healthy</td>\n",
       "    </tr>\n",
       "    <tr>\n",
       "      <th>3</th>\n",
       "      <td>Male</td>\n",
       "      <td>22.0</td>\n",
       "      <td>Working Professional</td>\n",
       "      <td>Yes</td>\n",
       "      <td>10.0</td>\n",
       "      <td>1.0</td>\n",
       "      <td>Yes</td>\n",
       "      <td>1</td>\n",
       "      <td>5.0</td>\n",
       "      <td>Low Sleep</td>\n",
       "      <td>Moderate</td>\n",
       "    </tr>\n",
       "    <tr>\n",
       "      <th>4</th>\n",
       "      <td>Female</td>\n",
       "      <td>30.0</td>\n",
       "      <td>Working Professional</td>\n",
       "      <td>Yes</td>\n",
       "      <td>9.0</td>\n",
       "      <td>4.0</td>\n",
       "      <td>Yes</td>\n",
       "      <td>0</td>\n",
       "      <td>1.0</td>\n",
       "      <td>Moderate Sleep</td>\n",
       "      <td>Unhealthy</td>\n",
       "    </tr>\n",
       "  </tbody>\n",
       "</table>\n",
       "</div>"
      ],
      "text/plain": [
       "   gender   age       prof_or_student suicidal  work_study_hours  \\\n",
       "0  Female  49.0  Working Professional       No               1.0   \n",
       "1    Male  26.0  Working Professional      Yes               7.0   \n",
       "2    Male  33.0               Student      Yes               3.0   \n",
       "3    Male  22.0  Working Professional      Yes              10.0   \n",
       "4  Female  30.0  Working Professional      Yes               9.0   \n",
       "\n",
       "   financial_stress family_hist  depression  academic_work_pressure  \\\n",
       "0               2.0          No           0                     5.0   \n",
       "1               3.0          No           1                     4.0   \n",
       "2               1.0          No           1                     5.0   \n",
       "3               1.0         Yes           1                     5.0   \n",
       "4               4.0         Yes           0                     1.0   \n",
       "\n",
       "    sleep_dur_cat   diet_cat  \n",
       "0      High Sleep    Healthy  \n",
       "1       Low Sleep  Unhealthy  \n",
       "2  Moderate Sleep    Healthy  \n",
       "3       Low Sleep   Moderate  \n",
       "4  Moderate Sleep  Unhealthy  "
      ]
     },
     "execution_count": 7,
     "metadata": {},
     "output_type": "execute_result"
    }
   ],
   "source": [
    "df = data_prep(df,\n",
    "          col1 = 'Academic Pressure',\n",
    "          col2 = 'Work Pressure',\n",
    "          col_drop = cols_te_drop)\n",
    "\n",
    "df.head()"
   ]
  },
  {
   "cell_type": "markdown",
   "id": "4d7fc1bd",
   "metadata": {},
   "source": [
    "## 1 Train\\Test Split"
   ]
  },
  {
   "cell_type": "markdown",
   "id": "00eca58a",
   "metadata": {},
   "source": [
    "This data has imbalanced target variables (depression) and predictors (prof_or_student), it’s essential to apply techniques that ensure both class balance and meaningful representation in both training and testing sets."
   ]
  },
  {
   "cell_type": "code",
   "execution_count": 8,
   "id": "8cc768a7",
   "metadata": {},
   "outputs": [],
   "source": [
    "X = df.drop('depression', axis = 1)\n",
    "y = df['depression']"
   ]
  },
  {
   "cell_type": "markdown",
   "id": "072cfc6f",
   "metadata": {},
   "source": [
    "#### Step 1: Split into Train + Temporary Set (Test + Holdout)"
   ]
  },
  {
   "cell_type": "code",
   "execution_count": 9,
   "id": "23d6ba40",
   "metadata": {},
   "outputs": [],
   "source": [
    "X_train, X_temp, y_train, y_temp = train_test_split(X, \n",
    "                                                    y, \n",
    "                                                    stratify = y, \n",
    "                                                    test_size = 0.4, \n",
    "                                                    random_state = 42)"
   ]
  },
  {
   "cell_type": "code",
   "execution_count": 10,
   "id": "c183cf9e",
   "metadata": {},
   "outputs": [
    {
     "data": {
      "text/plain": [
       "0    0.818287\n",
       "1    0.181713\n",
       "Name: depression, dtype: float64"
      ]
     },
     "execution_count": 10,
     "metadata": {},
     "output_type": "execute_result"
    }
   ],
   "source": [
    "y.value_counts()/len(y)"
   ]
  },
  {
   "cell_type": "code",
   "execution_count": 11,
   "id": "f2375d38",
   "metadata": {},
   "outputs": [
    {
     "data": {
      "text/plain": [
       "0    0.81829\n",
       "1    0.18171\n",
       "Name: depression, dtype: float64"
      ]
     },
     "execution_count": 11,
     "metadata": {},
     "output_type": "execute_result"
    }
   ],
   "source": [
    "y_train.value_counts()/len(y_train)"
   ]
  },
  {
   "cell_type": "code",
   "execution_count": 12,
   "id": "c11847ae",
   "metadata": {},
   "outputs": [
    {
     "data": {
      "text/plain": [
       "Working Professional    0.801699\n",
       "Student                 0.198301\n",
       "Name: prof_or_student, dtype: float64"
      ]
     },
     "execution_count": 12,
     "metadata": {},
     "output_type": "execute_result"
    }
   ],
   "source": [
    "X['prof_or_student'].value_counts()/len(X['prof_or_student'])"
   ]
  },
  {
   "cell_type": "code",
   "execution_count": 13,
   "id": "1350c78a",
   "metadata": {},
   "outputs": [
    {
     "data": {
      "text/plain": [
       "Working Professional    0.801575\n",
       "Student                 0.198425\n",
       "Name: prof_or_student, dtype: float64"
      ]
     },
     "execution_count": 13,
     "metadata": {},
     "output_type": "execute_result"
    }
   ],
   "source": [
    "X_train['prof_or_student'].value_counts()/len(X_train['prof_or_student'])"
   ]
  },
  {
   "cell_type": "markdown",
   "id": "db2489cf",
   "metadata": {},
   "source": [
    "#### Step 2: Split Temporary Set into Test and Holdout"
   ]
  },
  {
   "cell_type": "code",
   "execution_count": 14,
   "id": "65ba102e",
   "metadata": {},
   "outputs": [],
   "source": [
    "X_test, X_holdout, y_test, y_holdout = train_test_split(X_temp, \n",
    "                                                        y_temp, \n",
    "                                                        stratify = y_temp,\n",
    "                                                        test_size = 0.5,\n",
    "                                                        random_state = 42)  # 20% test, 20% holdout"
   ]
  },
  {
   "cell_type": "code",
   "execution_count": 15,
   "id": "9c314191",
   "metadata": {},
   "outputs": [
    {
     "data": {
      "text/plain": [
       "Working Professional    0.802523\n",
       "Student                 0.197477\n",
       "Name: prof_or_student, dtype: float64"
      ]
     },
     "execution_count": 15,
     "metadata": {},
     "output_type": "execute_result"
    }
   ],
   "source": [
    "X_test['prof_or_student'].value_counts()/len(X_test['prof_or_student'])"
   ]
  },
  {
   "cell_type": "code",
   "execution_count": 16,
   "id": "28a8dff7",
   "metadata": {},
   "outputs": [
    {
     "data": {
      "text/plain": [
       "0    0.818266\n",
       "1    0.181734\n",
       "Name: depression, dtype: float64"
      ]
     },
     "execution_count": 16,
     "metadata": {},
     "output_type": "execute_result"
    }
   ],
   "source": [
    "y_test.value_counts()/len(y_test)"
   ]
  },
  {
   "cell_type": "code",
   "execution_count": 17,
   "id": "51bbbec4",
   "metadata": {},
   "outputs": [
    {
     "name": "stdout",
     "output_type": "stream",
     "text": [
      "The shape of X_train is (84420, 10)\n",
      "The shape of X_test is (28140, 10)\n",
      "The shape of X_holdout is (28140, 10)\n"
     ]
    }
   ],
   "source": [
    "print(f'The shape of X_train is {X_train.shape}\\nThe shape of X_test is {X_test.shape}\\nThe shape of X_holdout is {X_holdout.shape}')"
   ]
  },
  {
   "cell_type": "code",
   "execution_count": 18,
   "id": "b7ac6a74",
   "metadata": {},
   "outputs": [],
   "source": [
    "X_train_num = X_train[['age', 'work_study_hours']]\n",
    "X_train_cat = X_train.drop(columns = ['age', 'work_study_hours'], axis = 1)\n",
    "X_train_nom_cat = X_train_cat.drop(columns = ['financial_stress', 'academic_work_pressure'], axis = 1)\n",
    "X_train_ord_cat = X_train_cat[['financial_stress', 'academic_work_pressure']]\n",
    "\n",
    "num_attribs = X_train_num.columns\n",
    "cat_attribs = X_train_cat.columns\n",
    "nom_cat_attribs = X_train_nom_cat.columns\n",
    "ord_cat_attribs = X_train_ord_cat.columns"
   ]
  },
  {
   "cell_type": "markdown",
   "id": "aa8bcf21",
   "metadata": {},
   "source": [
    "**Ordinal Variables**:\n",
    "* financial_stress\n",
    "* academic_work_pressure"
   ]
  },
  {
   "cell_type": "markdown",
   "id": "1710ffd0",
   "metadata": {},
   "source": [
    "## 2 Training "
   ]
  },
  {
   "cell_type": "markdown",
   "id": "fca8d1f1",
   "metadata": {},
   "source": [
    "As part of the model training process, I will first establish a baseline performance using Logistic Regression, followed by training more advanced models such as Decision Trees, Random Forest, Gradient Boosting, KNN, and SVM."
   ]
  },
  {
   "cell_type": "code",
   "execution_count": 19,
   "id": "8080ba13",
   "metadata": {},
   "outputs": [],
   "source": [
    "num_pipeline = Pipeline([\n",
    "                         ('imputer', SimpleImputer(strategy = \"median\")),\n",
    "                         ('std_scaler', StandardScaler())\n",
    "                            ])"
   ]
  },
  {
   "cell_type": "code",
   "execution_count": 20,
   "id": "8fa59aaa",
   "metadata": {},
   "outputs": [],
   "source": [
    "nom_cat_pipeline = Pipeline([\n",
    "                        ('imputer', SimpleImputer(strategy = \"most_frequent\")),\n",
    "                        ('onehot', OneHotEncoder(drop = 'first'))      # One-hot encode with drop first column\n",
    "                            ])"
   ]
  },
  {
   "cell_type": "code",
   "execution_count": 21,
   "id": "f0589dc2",
   "metadata": {},
   "outputs": [],
   "source": [
    "ord_cat_pipeline = Pipeline([\n",
    "                        ('imputer', SimpleImputer(strategy = \"most_frequent\")),\n",
    "                        ('ordinal', OrdinalEncoder())      \n",
    "                            ])"
   ]
  },
  {
   "cell_type": "code",
   "execution_count": 22,
   "id": "469f607b",
   "metadata": {},
   "outputs": [],
   "source": [
    "full_pipeline = ColumnTransformer([\n",
    "                                    (\"num\", num_pipeline, num_attribs),\n",
    "                                    (\"nom_cat\", nom_cat_pipeline, nom_cat_attribs),\n",
    "                                    (\"ord_cat\", ord_cat_pipeline, ord_cat_attribs),\n",
    "                                      ])"
   ]
  },
  {
   "cell_type": "code",
   "execution_count": 23,
   "id": "500d197a",
   "metadata": {},
   "outputs": [],
   "source": [
    "X_train_prepared = full_pipeline.fit_transform(X_train)\n",
    "X_test_prepared = full_pipeline.transform(X_test)\n",
    "X_holdout_prepared = full_pipeline.transform(X_holdout)"
   ]
  },
  {
   "cell_type": "code",
   "execution_count": 24,
   "id": "601eed29",
   "metadata": {},
   "outputs": [
    {
     "data": {
      "text/html": [
       "<div>\n",
       "<style scoped>\n",
       "    .dataframe tbody tr th:only-of-type {\n",
       "        vertical-align: middle;\n",
       "    }\n",
       "\n",
       "    .dataframe tbody tr th {\n",
       "        vertical-align: top;\n",
       "    }\n",
       "\n",
       "    .dataframe thead th {\n",
       "        text-align: right;\n",
       "    }\n",
       "</style>\n",
       "<table border=\"1\" class=\"dataframe\">\n",
       "  <thead>\n",
       "    <tr style=\"text-align: right;\">\n",
       "      <th></th>\n",
       "      <th>age</th>\n",
       "      <th>work_study_hours</th>\n",
       "      <th>gender_Male</th>\n",
       "      <th>prof_or_student_Working Professional</th>\n",
       "      <th>suicidal_Yes</th>\n",
       "      <th>family_hist_Yes</th>\n",
       "      <th>sleep_dur_cat_Low Sleep</th>\n",
       "      <th>sleep_dur_cat_Moderate Sleep</th>\n",
       "      <th>sleep_dur_cat_Other</th>\n",
       "      <th>diet_cat_Moderate</th>\n",
       "      <th>diet_cat_Other</th>\n",
       "      <th>diet_cat_Unhealthy</th>\n",
       "      <th>financial_stress</th>\n",
       "      <th>academic_work_pressure</th>\n",
       "    </tr>\n",
       "  </thead>\n",
       "  <tbody>\n",
       "    <tr>\n",
       "      <th>0</th>\n",
       "      <td>-0.433216</td>\n",
       "      <td>-1.622662</td>\n",
       "      <td>1.0</td>\n",
       "      <td>1.0</td>\n",
       "      <td>1.0</td>\n",
       "      <td>0.0</td>\n",
       "      <td>0.0</td>\n",
       "      <td>0.0</td>\n",
       "      <td>0.0</td>\n",
       "      <td>0.0</td>\n",
       "      <td>0.0</td>\n",
       "      <td>0.0</td>\n",
       "      <td>3.0</td>\n",
       "      <td>4.0</td>\n",
       "    </tr>\n",
       "    <tr>\n",
       "      <th>1</th>\n",
       "      <td>1.019098</td>\n",
       "      <td>-0.582668</td>\n",
       "      <td>1.0</td>\n",
       "      <td>1.0</td>\n",
       "      <td>0.0</td>\n",
       "      <td>0.0</td>\n",
       "      <td>1.0</td>\n",
       "      <td>0.0</td>\n",
       "      <td>0.0</td>\n",
       "      <td>0.0</td>\n",
       "      <td>0.0</td>\n",
       "      <td>1.0</td>\n",
       "      <td>4.0</td>\n",
       "      <td>0.0</td>\n",
       "    </tr>\n",
       "    <tr>\n",
       "      <th>2</th>\n",
       "      <td>1.261151</td>\n",
       "      <td>-0.062671</td>\n",
       "      <td>0.0</td>\n",
       "      <td>1.0</td>\n",
       "      <td>1.0</td>\n",
       "      <td>1.0</td>\n",
       "      <td>0.0</td>\n",
       "      <td>0.0</td>\n",
       "      <td>0.0</td>\n",
       "      <td>1.0</td>\n",
       "      <td>0.0</td>\n",
       "      <td>0.0</td>\n",
       "      <td>0.0</td>\n",
       "      <td>0.0</td>\n",
       "    </tr>\n",
       "    <tr>\n",
       "      <th>3</th>\n",
       "      <td>-0.271848</td>\n",
       "      <td>-1.362663</td>\n",
       "      <td>0.0</td>\n",
       "      <td>1.0</td>\n",
       "      <td>0.0</td>\n",
       "      <td>0.0</td>\n",
       "      <td>0.0</td>\n",
       "      <td>1.0</td>\n",
       "      <td>0.0</td>\n",
       "      <td>1.0</td>\n",
       "      <td>0.0</td>\n",
       "      <td>0.0</td>\n",
       "      <td>2.0</td>\n",
       "      <td>0.0</td>\n",
       "    </tr>\n",
       "    <tr>\n",
       "      <th>4</th>\n",
       "      <td>-0.191164</td>\n",
       "      <td>1.237321</td>\n",
       "      <td>0.0</td>\n",
       "      <td>1.0</td>\n",
       "      <td>1.0</td>\n",
       "      <td>0.0</td>\n",
       "      <td>1.0</td>\n",
       "      <td>0.0</td>\n",
       "      <td>0.0</td>\n",
       "      <td>0.0</td>\n",
       "      <td>0.0</td>\n",
       "      <td>0.0</td>\n",
       "      <td>0.0</td>\n",
       "      <td>4.0</td>\n",
       "    </tr>\n",
       "    <tr>\n",
       "      <th>...</th>\n",
       "      <td>...</td>\n",
       "      <td>...</td>\n",
       "      <td>...</td>\n",
       "      <td>...</td>\n",
       "      <td>...</td>\n",
       "      <td>...</td>\n",
       "      <td>...</td>\n",
       "      <td>...</td>\n",
       "      <td>...</td>\n",
       "      <td>...</td>\n",
       "      <td>...</td>\n",
       "      <td>...</td>\n",
       "      <td>...</td>\n",
       "      <td>...</td>\n",
       "    </tr>\n",
       "    <tr>\n",
       "      <th>84415</th>\n",
       "      <td>-0.755953</td>\n",
       "      <td>0.977322</td>\n",
       "      <td>0.0</td>\n",
       "      <td>0.0</td>\n",
       "      <td>0.0</td>\n",
       "      <td>1.0</td>\n",
       "      <td>0.0</td>\n",
       "      <td>1.0</td>\n",
       "      <td>0.0</td>\n",
       "      <td>1.0</td>\n",
       "      <td>0.0</td>\n",
       "      <td>0.0</td>\n",
       "      <td>0.0</td>\n",
       "      <td>0.0</td>\n",
       "    </tr>\n",
       "    <tr>\n",
       "      <th>84416</th>\n",
       "      <td>-1.724162</td>\n",
       "      <td>0.977322</td>\n",
       "      <td>0.0</td>\n",
       "      <td>1.0</td>\n",
       "      <td>1.0</td>\n",
       "      <td>1.0</td>\n",
       "      <td>0.0</td>\n",
       "      <td>1.0</td>\n",
       "      <td>0.0</td>\n",
       "      <td>0.0</td>\n",
       "      <td>0.0</td>\n",
       "      <td>1.0</td>\n",
       "      <td>2.0</td>\n",
       "      <td>4.0</td>\n",
       "    </tr>\n",
       "    <tr>\n",
       "      <th>84417</th>\n",
       "      <td>1.261151</td>\n",
       "      <td>0.977322</td>\n",
       "      <td>0.0</td>\n",
       "      <td>1.0</td>\n",
       "      <td>0.0</td>\n",
       "      <td>1.0</td>\n",
       "      <td>0.0</td>\n",
       "      <td>0.0</td>\n",
       "      <td>0.0</td>\n",
       "      <td>1.0</td>\n",
       "      <td>0.0</td>\n",
       "      <td>0.0</td>\n",
       "      <td>2.0</td>\n",
       "      <td>1.0</td>\n",
       "    </tr>\n",
       "    <tr>\n",
       "      <th>84418</th>\n",
       "      <td>1.583887</td>\n",
       "      <td>0.717324</td>\n",
       "      <td>0.0</td>\n",
       "      <td>1.0</td>\n",
       "      <td>1.0</td>\n",
       "      <td>1.0</td>\n",
       "      <td>1.0</td>\n",
       "      <td>0.0</td>\n",
       "      <td>0.0</td>\n",
       "      <td>0.0</td>\n",
       "      <td>0.0</td>\n",
       "      <td>1.0</td>\n",
       "      <td>0.0</td>\n",
       "      <td>2.0</td>\n",
       "    </tr>\n",
       "    <tr>\n",
       "      <th>84419</th>\n",
       "      <td>0.212257</td>\n",
       "      <td>-1.622662</td>\n",
       "      <td>0.0</td>\n",
       "      <td>1.0</td>\n",
       "      <td>1.0</td>\n",
       "      <td>0.0</td>\n",
       "      <td>0.0</td>\n",
       "      <td>1.0</td>\n",
       "      <td>0.0</td>\n",
       "      <td>0.0</td>\n",
       "      <td>0.0</td>\n",
       "      <td>0.0</td>\n",
       "      <td>4.0</td>\n",
       "      <td>0.0</td>\n",
       "    </tr>\n",
       "  </tbody>\n",
       "</table>\n",
       "<p>84420 rows × 14 columns</p>\n",
       "</div>"
      ],
      "text/plain": [
       "            age  work_study_hours  gender_Male  \\\n",
       "0     -0.433216         -1.622662          1.0   \n",
       "1      1.019098         -0.582668          1.0   \n",
       "2      1.261151         -0.062671          0.0   \n",
       "3     -0.271848         -1.362663          0.0   \n",
       "4     -0.191164          1.237321          0.0   \n",
       "...         ...               ...          ...   \n",
       "84415 -0.755953          0.977322          0.0   \n",
       "84416 -1.724162          0.977322          0.0   \n",
       "84417  1.261151          0.977322          0.0   \n",
       "84418  1.583887          0.717324          0.0   \n",
       "84419  0.212257         -1.622662          0.0   \n",
       "\n",
       "       prof_or_student_Working Professional  suicidal_Yes  family_hist_Yes  \\\n",
       "0                                       1.0           1.0              0.0   \n",
       "1                                       1.0           0.0              0.0   \n",
       "2                                       1.0           1.0              1.0   \n",
       "3                                       1.0           0.0              0.0   \n",
       "4                                       1.0           1.0              0.0   \n",
       "...                                     ...           ...              ...   \n",
       "84415                                   0.0           0.0              1.0   \n",
       "84416                                   1.0           1.0              1.0   \n",
       "84417                                   1.0           0.0              1.0   \n",
       "84418                                   1.0           1.0              1.0   \n",
       "84419                                   1.0           1.0              0.0   \n",
       "\n",
       "       sleep_dur_cat_Low Sleep  sleep_dur_cat_Moderate Sleep  \\\n",
       "0                          0.0                           0.0   \n",
       "1                          1.0                           0.0   \n",
       "2                          0.0                           0.0   \n",
       "3                          0.0                           1.0   \n",
       "4                          1.0                           0.0   \n",
       "...                        ...                           ...   \n",
       "84415                      0.0                           1.0   \n",
       "84416                      0.0                           1.0   \n",
       "84417                      0.0                           0.0   \n",
       "84418                      1.0                           0.0   \n",
       "84419                      0.0                           1.0   \n",
       "\n",
       "       sleep_dur_cat_Other  diet_cat_Moderate  diet_cat_Other  \\\n",
       "0                      0.0                0.0             0.0   \n",
       "1                      0.0                0.0             0.0   \n",
       "2                      0.0                1.0             0.0   \n",
       "3                      0.0                1.0             0.0   \n",
       "4                      0.0                0.0             0.0   \n",
       "...                    ...                ...             ...   \n",
       "84415                  0.0                1.0             0.0   \n",
       "84416                  0.0                0.0             0.0   \n",
       "84417                  0.0                1.0             0.0   \n",
       "84418                  0.0                0.0             0.0   \n",
       "84419                  0.0                0.0             0.0   \n",
       "\n",
       "       diet_cat_Unhealthy  financial_stress  academic_work_pressure  \n",
       "0                     0.0               3.0                     4.0  \n",
       "1                     1.0               4.0                     0.0  \n",
       "2                     0.0               0.0                     0.0  \n",
       "3                     0.0               2.0                     0.0  \n",
       "4                     0.0               0.0                     4.0  \n",
       "...                   ...               ...                     ...  \n",
       "84415                 0.0               0.0                     0.0  \n",
       "84416                 1.0               2.0                     4.0  \n",
       "84417                 0.0               2.0                     1.0  \n",
       "84418                 1.0               0.0                     2.0  \n",
       "84419                 0.0               4.0                     0.0  \n",
       "\n",
       "[84420 rows x 14 columns]"
      ]
     },
     "execution_count": 24,
     "metadata": {},
     "output_type": "execute_result"
    }
   ],
   "source": [
    "num_columns = list(num_attribs) \n",
    "ord_cat_columns = list(ord_cat_attribs)\n",
    "\n",
    "# Extract the feature names for categorical columns after the pipeline\n",
    "nom_cat_columns = full_pipeline.transformers_[1][1].named_steps['onehot'].get_feature_names_out(nom_cat_attribs)\n",
    "\n",
    "# Combine numeric and categorical column names\n",
    "all_columns = num_columns + list(nom_cat_columns) + ord_cat_columns\n",
    "\n",
    "\n",
    "pd.DataFrame(X_train_prepared, columns = all_columns)"
   ]
  },
  {
   "cell_type": "markdown",
   "id": "6f29734d",
   "metadata": {},
   "source": [
    "### 2.2 Training Models "
   ]
  },
  {
   "cell_type": "code",
   "execution_count": 25,
   "id": "c2790bd2",
   "metadata": {},
   "outputs": [],
   "source": [
    "def evaluate_models(X_train, y_train, X_test, y_test, models, param):\n",
    "    \n",
    "    '''\n",
    "    \n",
    "    This function calculates the Accuracy for both Train and Test sets and for each model, \n",
    "    then return the results in Pandas DataFrame\n",
    "    \n",
    "    '''\n",
    "    \n",
    "    with warnings.catch_warnings():\n",
    "        warnings.simplefilter(\"ignore\") \n",
    "    \n",
    "    \n",
    "    data = {}\n",
    "\n",
    "    # Loop through models and their corresponding hyperparameters\n",
    "    for model_name, model in models.items():\n",
    "        # Get the hyperparameter grid for the current model\n",
    "        para = param[model_name]\n",
    "\n",
    "        # Perform GridSearchCV\n",
    "        gs = GridSearchCV(model, para, cv = 5)\n",
    "        gs.fit(X_train, y_train)\n",
    "\n",
    "        # Make predictions using the best model from GridSearchCV\n",
    "        y_train_pred = gs.predict(X_train)\n",
    "        y_test_pred = gs.predict(X_test)\n",
    "        \n",
    "        \n",
    "        # Calculate the Accuracy\n",
    "        train_accuracy = accuracy_score(y_train, y_train_pred)\n",
    "        test_accuracy = accuracy_score(y_test, y_test_pred)\n",
    "        \n",
    "        \n",
    "        # Add the results to the report dictionary for this model\n",
    "        data[model_name] = {\n",
    "                             'train_accuracy': train_accuracy,\n",
    "                             'test_accuracy': test_accuracy\n",
    "                                }\n",
    "        \n",
    "        # Now we take the dictionnary and create a nice data frame \n",
    "       \n",
    "        report =  pd.DataFrame(data).T  # Transpose to make model names as rows\n",
    "\n",
    "        report.rename(columns={'index': 'model_name'}, inplace = True)\n",
    "        \n",
    "\n",
    "    return report"
   ]
  },
  {
   "cell_type": "code",
   "execution_count": 26,
   "id": "c0e7c5bf",
   "metadata": {},
   "outputs": [],
   "source": [
    "models = {\n",
    "            \"Logistic Regression\": LogisticRegression(max_iter= 1000),\n",
    "            \"LDA\": LinearDiscriminantAnalysis(),\n",
    "            \"KNN\": KNeighborsClassifier(),\n",
    "            \"Random Forest\": RandomForestClassifier(),\n",
    "            \"XG Boost\": XGBClassifier(),\n",
    "            \"CatBoost\": CatBoostClassifier(verbose = 0),\n",
    "            \"SGDC\": SGDClassifier(random_state=42)\n",
    "            }\n",
    "\n",
    "param = {\n",
    "            \"Logistic Regression\":{\n",
    "                \n",
    "                                    },\n",
    "            \"LDA\": {\n",
    "                                'solver': ['svd', 'lsqr', 'eigen'],  # Solvers for LDA\n",
    "                                'shrinkage': [None, 'auto', 0.1, 0.5, 1.0],  # Only applicable for 'lsqr' and 'eigen'\n",
    "                                                },\n",
    "             \"KNN\": {\n",
    "                                'n_neighbors': [3, 5, 7, 9],\n",
    "                                'weights': ['uniform', 'distance']\n",
    "                                       },\n",
    "\n",
    "            \"Random Forest\": {\n",
    "                                'n_estimators': [10, 50],\n",
    "                                'min_samples_split': [2, 5, 10]\n",
    "                                    },\n",
    "            \"XG Boost\": {\n",
    "                                'n_estimators': [10, 50],\n",
    "                                'max_depth': [3, 5, 7, 10],\n",
    "                                'learning_rate': [0.01, 0.1, 0.2]\n",
    "                                        },\n",
    "            \"CatBoost\": {\n",
    "                                'iterations': [500, 1000],         # Number of boosting iterations\n",
    "                                'learning_rate': [0.01, 0.1, 0.2] # Learning rate\n",
    "\n",
    "                                                },\n",
    "            \n",
    "            \"SGDC\": {}\n",
    "\n",
    "            }"
   ]
  },
  {
   "cell_type": "markdown",
   "id": "38602e14",
   "metadata": {},
   "source": [
    "* Logistic Regression: A linear model for binary classification that predicts the probability of a data point belonging to a particular class. It uses the logistic function to map predictions to probabilities between 0 and 1.\n",
    "\n",
    "* k-Nearest Neighbors (KNN): A non-parametric, instance-based algorithm that classifies a data point by looking at the classes of its k nearest neighbors. It assigns the most common class among them to the new data point.\n",
    "\n",
    "* Support Vector Machine (SVM): A supervised algorithm that finds the optimal boundary (hyperplane) to separate data points of different classes with the widest possible margin, enhancing classification accuracy.\n",
    "\n",
    "* Random Forest: An ensemble method that builds multiple decision trees on random subsets of the data and combines their predictions for improved accuracy and reduced overfitting.\n",
    "\n",
    "* XGBoost: An advanced boosting algorithm that creates sequential trees, each correcting the errors of the previous ones, resulting in a strong classifier with high accuracy and efficiency in handling large datasets."
   ]
  },
  {
   "cell_type": "code",
   "execution_count": 27,
   "id": "6d6b78f0",
   "metadata": {},
   "outputs": [
    {
     "name": "stderr",
     "output_type": "stream",
     "text": [
      "C:\\Users\\ahmed\\anaconda3\\Lib\\site-packages\\sklearn\\model_selection\\_validation.py:425: FitFailedWarning: \n",
      "20 fits failed out of a total of 75.\n",
      "The score on these train-test partitions for these parameters will be set to nan.\n",
      "If these failures are not expected, you can try to debug them by setting error_score='raise'.\n",
      "\n",
      "Below are more details about the failures:\n",
      "--------------------------------------------------------------------------------\n",
      "20 fits failed with the following error:\n",
      "Traceback (most recent call last):\n",
      "  File \"C:\\Users\\ahmed\\anaconda3\\Lib\\site-packages\\sklearn\\model_selection\\_validation.py\", line 732, in _fit_and_score\n",
      "    estimator.fit(X_train, y_train, **fit_params)\n",
      "  File \"C:\\Users\\ahmed\\anaconda3\\Lib\\site-packages\\sklearn\\base.py\", line 1151, in wrapper\n",
      "    return fit_method(estimator, *args, **kwargs)\n",
      "           ^^^^^^^^^^^^^^^^^^^^^^^^^^^^^^^^^^^^^^\n",
      "  File \"C:\\Users\\ahmed\\anaconda3\\Lib\\site-packages\\sklearn\\discriminant_analysis.py\", line 621, in fit\n",
      "    raise NotImplementedError(\"shrinkage not supported with 'svd' solver.\")\n",
      "NotImplementedError: shrinkage not supported with 'svd' solver.\n",
      "\n",
      "  warnings.warn(some_fits_failed_message, FitFailedWarning)\n",
      "C:\\Users\\ahmed\\anaconda3\\Lib\\site-packages\\sklearn\\model_selection\\_search.py:976: UserWarning: One or more of the test scores are non-finite: [0.92500592 0.92500592 0.92500592        nan 0.92402274 0.92402274\n",
      "        nan 0.93046671 0.93046671        nan 0.92566927 0.92566927\n",
      "        nan 0.89442075 0.89442075]\n",
      "  warnings.warn(\n"
     ]
    },
    {
     "data": {
      "text/html": [
       "<div>\n",
       "<style scoped>\n",
       "    .dataframe tbody tr th:only-of-type {\n",
       "        vertical-align: middle;\n",
       "    }\n",
       "\n",
       "    .dataframe tbody tr th {\n",
       "        vertical-align: top;\n",
       "    }\n",
       "\n",
       "    .dataframe thead th {\n",
       "        text-align: right;\n",
       "    }\n",
       "</style>\n",
       "<table border=\"1\" class=\"dataframe\">\n",
       "  <thead>\n",
       "    <tr style=\"text-align: right;\">\n",
       "      <th></th>\n",
       "      <th>train_accuracy</th>\n",
       "      <th>test_accuracy</th>\n",
       "    </tr>\n",
       "  </thead>\n",
       "  <tbody>\n",
       "    <tr>\n",
       "      <th>Logistic Regression</th>\n",
       "      <td>0.934506</td>\n",
       "      <td>0.935004</td>\n",
       "    </tr>\n",
       "    <tr>\n",
       "      <th>LDA</th>\n",
       "      <td>0.930585</td>\n",
       "      <td>0.930633</td>\n",
       "    </tr>\n",
       "    <tr>\n",
       "      <th>KNN</th>\n",
       "      <td>0.940618</td>\n",
       "      <td>0.929922</td>\n",
       "    </tr>\n",
       "    <tr>\n",
       "      <th>Random Forest</th>\n",
       "      <td>0.955082</td>\n",
       "      <td>0.934613</td>\n",
       "    </tr>\n",
       "    <tr>\n",
       "      <th>XG Boost</th>\n",
       "      <td>0.938332</td>\n",
       "      <td>0.934968</td>\n",
       "    </tr>\n",
       "    <tr>\n",
       "      <th>CatBoost</th>\n",
       "      <td>0.936911</td>\n",
       "      <td>0.936780</td>\n",
       "    </tr>\n",
       "    <tr>\n",
       "      <th>SGDC</th>\n",
       "      <td>0.932504</td>\n",
       "      <td>0.933937</td>\n",
       "    </tr>\n",
       "  </tbody>\n",
       "</table>\n",
       "</div>"
      ],
      "text/plain": [
       "                     train_accuracy  test_accuracy\n",
       "Logistic Regression        0.934506       0.935004\n",
       "LDA                        0.930585       0.930633\n",
       "KNN                        0.940618       0.929922\n",
       "Random Forest              0.955082       0.934613\n",
       "XG Boost                   0.938332       0.934968\n",
       "CatBoost                   0.936911       0.936780\n",
       "SGDC                       0.932504       0.933937"
      ]
     },
     "execution_count": 27,
     "metadata": {},
     "output_type": "execute_result"
    }
   ],
   "source": [
    "accuracy_table = evaluate_models(X_train_prepared, y_train, X_test_prepared, y_test, models, param)\n",
    "accuracy_table"
   ]
  },
  {
   "cell_type": "code",
   "execution_count": 40,
   "id": "8725fb75",
   "metadata": {},
   "outputs": [
    {
     "data": {
      "text/plain": [
       "<catboost.core.CatBoostClassifier at 0x17ba5104150>"
      ]
     },
     "execution_count": 40,
     "metadata": {},
     "output_type": "execute_result"
    }
   ],
   "source": [
    "cb = CatBoostClassifier(verbose = 0)\n",
    "params = {'iterations': [500, 1000],         # Number of boosting iterations\n",
    "          'learning_rate': [0.01, 0.1, 0.2]} # Learning rate\n",
    "\n",
    "# Perform GridSearchCV\n",
    "gs = GridSearchCV(cb, params, cv = 5)\n",
    "gs.fit(X_train_prepared, y_train)\n",
    "\n",
    "# Get the best estimator from GridSearchCV\n",
    "best_model = gs.best_estimator_\n",
    "best_model"
   ]
  },
  {
   "cell_type": "code",
   "execution_count": 41,
   "id": "59e4bf73",
   "metadata": {},
   "outputs": [
    {
     "data": {
      "text/html": [
       "<div>\n",
       "<style scoped>\n",
       "    .dataframe tbody tr th:only-of-type {\n",
       "        vertical-align: middle;\n",
       "    }\n",
       "\n",
       "    .dataframe tbody tr th {\n",
       "        vertical-align: top;\n",
       "    }\n",
       "\n",
       "    .dataframe thead th {\n",
       "        text-align: right;\n",
       "    }\n",
       "</style>\n",
       "<table border=\"1\" class=\"dataframe\">\n",
       "  <thead>\n",
       "    <tr style=\"text-align: right;\">\n",
       "      <th></th>\n",
       "      <th>Feature</th>\n",
       "      <th>Importance</th>\n",
       "    </tr>\n",
       "  </thead>\n",
       "  <tbody>\n",
       "    <tr>\n",
       "      <th>0</th>\n",
       "      <td>age</td>\n",
       "      <td>36.146082</td>\n",
       "    </tr>\n",
       "    <tr>\n",
       "      <th>4</th>\n",
       "      <td>suicidal_Yes</td>\n",
       "      <td>19.606354</td>\n",
       "    </tr>\n",
       "    <tr>\n",
       "      <th>13</th>\n",
       "      <td>academic_work_pressure</td>\n",
       "      <td>12.589573</td>\n",
       "    </tr>\n",
       "    <tr>\n",
       "      <th>12</th>\n",
       "      <td>financial_stress</td>\n",
       "      <td>10.276819</td>\n",
       "    </tr>\n",
       "    <tr>\n",
       "      <th>3</th>\n",
       "      <td>prof_or_student_Working Professional</td>\n",
       "      <td>6.358744</td>\n",
       "    </tr>\n",
       "    <tr>\n",
       "      <th>1</th>\n",
       "      <td>work_study_hours</td>\n",
       "      <td>6.326852</td>\n",
       "    </tr>\n",
       "    <tr>\n",
       "      <th>11</th>\n",
       "      <td>diet_cat_Unhealthy</td>\n",
       "      <td>3.648077</td>\n",
       "    </tr>\n",
       "    <tr>\n",
       "      <th>6</th>\n",
       "      <td>sleep_dur_cat_Low Sleep</td>\n",
       "      <td>2.005802</td>\n",
       "    </tr>\n",
       "    <tr>\n",
       "      <th>9</th>\n",
       "      <td>diet_cat_Moderate</td>\n",
       "      <td>1.204572</td>\n",
       "    </tr>\n",
       "    <tr>\n",
       "      <th>5</th>\n",
       "      <td>family_hist_Yes</td>\n",
       "      <td>0.873557</td>\n",
       "    </tr>\n",
       "    <tr>\n",
       "      <th>7</th>\n",
       "      <td>sleep_dur_cat_Moderate Sleep</td>\n",
       "      <td>0.758877</td>\n",
       "    </tr>\n",
       "    <tr>\n",
       "      <th>2</th>\n",
       "      <td>gender_Male</td>\n",
       "      <td>0.197993</td>\n",
       "    </tr>\n",
       "    <tr>\n",
       "      <th>10</th>\n",
       "      <td>diet_cat_Other</td>\n",
       "      <td>0.006605</td>\n",
       "    </tr>\n",
       "    <tr>\n",
       "      <th>8</th>\n",
       "      <td>sleep_dur_cat_Other</td>\n",
       "      <td>0.000093</td>\n",
       "    </tr>\n",
       "  </tbody>\n",
       "</table>\n",
       "</div>"
      ],
      "text/plain": [
       "                                 Feature  Importance\n",
       "0                                    age   36.146082\n",
       "4                           suicidal_Yes   19.606354\n",
       "13                academic_work_pressure   12.589573\n",
       "12                      financial_stress   10.276819\n",
       "3   prof_or_student_Working Professional    6.358744\n",
       "1                       work_study_hours    6.326852\n",
       "11                    diet_cat_Unhealthy    3.648077\n",
       "6                sleep_dur_cat_Low Sleep    2.005802\n",
       "9                      diet_cat_Moderate    1.204572\n",
       "5                        family_hist_Yes    0.873557\n",
       "7           sleep_dur_cat_Moderate Sleep    0.758877\n",
       "2                            gender_Male    0.197993\n",
       "10                        diet_cat_Other    0.006605\n",
       "8                    sleep_dur_cat_Other    0.000093"
      ]
     },
     "execution_count": 41,
     "metadata": {},
     "output_type": "execute_result"
    }
   ],
   "source": [
    "# Get the best estimator from GridSearchCV\n",
    "best_model = gs.best_estimator_\n",
    "\n",
    "# Access feature importances\n",
    "feature_importances = best_model.feature_importances_\n",
    "\n",
    "\n",
    "feature_importance_df = pd.DataFrame({\n",
    "    'Feature': all_columns,\n",
    "    'Importance': feature_importances\n",
    "}).sort_values(by='Importance', ascending=False)\n",
    "\n",
    "feature_importance_df\n"
   ]
  },
  {
   "cell_type": "code",
   "execution_count": 45,
   "id": "c51f2177",
   "metadata": {},
   "outputs": [],
   "source": [
    "X_train_num = X_train[['age', 'work_study_hours']]\n",
    "X_train_cat = X_train.drop(columns = ['age', 'work_study_hours'], axis = 1)\n",
    "X_train_nom_cat = X_train_cat.drop(columns = ['financial_stress', 'academic_work_pressure', 'gender', 'family_hist'], axis = 1)\n",
    "X_train_ord_cat = X_train_cat[['financial_stress', 'academic_work_pressure']]\n",
    "\n",
    "num_attribs = X_train_num.columns\n",
    "cat_attribs = X_train_cat.columns\n",
    "nom_cat_attribs = X_train_nom_cat.columns\n",
    "ord_cat_attribs = X_train_ord_cat.columns"
   ]
  },
  {
   "cell_type": "code",
   "execution_count": 46,
   "id": "bb83fde3",
   "metadata": {},
   "outputs": [],
   "source": [
    "X_prepared = full_pipeline.fit_transform(X)\n",
    "X_train_prepared = full_pipeline.fit_transform(X_train)\n",
    "X_test_prepared = full_pipeline.transform(X_test)\n",
    "X_holdout_prepared = full_pipeline.transform(X_holdout)"
   ]
  },
  {
   "cell_type": "markdown",
   "id": "53345379",
   "metadata": {},
   "source": [
    "### 2.3 Model Validation"
   ]
  },
  {
   "cell_type": "code",
   "execution_count": 70,
   "id": "eb0f75a2",
   "metadata": {},
   "outputs": [],
   "source": [
    "def quick_evaluation(actuals, preds):\n",
    "    \n",
    "    '''\n",
    "    \n",
    "    This function calculates the Accuracy, Precision, Recall and F1_scure\n",
    "    \n",
    "    '''\n",
    "    accuracy = accuracy_score(actuals, preds)\n",
    "    precision = precision_score(actuals, preds)\n",
    "    recall = recall_score(actuals, preds)\n",
    "    f1 = f1_score(actuals, preds)\n",
    "    \n",
    "    print(f'The accuary of the model is: {accuracy}\\nThe precision of the model is: {precision}\\nThe recall score of the model is: {recall}\\nThe F1 score of the model is: {f1}\\n')"
   ]
  },
  {
   "cell_type": "code",
   "execution_count": 66,
   "id": "e4f701d8",
   "metadata": {},
   "outputs": [],
   "source": [
    "def metric_evaluation(actuals,\n",
    "                      preds,\n",
    "                      act_train = None,\n",
    "                      pred_train = None,\n",
    "                      act_test = None,\n",
    "                      pred_test = None,\n",
    "                      act_holdout = None,\n",
    "                      pred_holdout = None):\n",
    "\n",
    "    '''\n",
    "    \n",
    "    This function calculates the Accuracy, Precision, Recall and F1_scure\n",
    "    \n",
    "    '''\n",
    "    accuracy = accuracy_score(actuals, preds)\n",
    "    precision = precision_score(actuals, preds)\n",
    "    recall = recall_score(actuals, preds)\n",
    "    f1 = f1_score(actuals, preds)\n",
    "    \n",
    "    df = pd.DataFrame({'Full Data': [accuracy, precision, recall, f1]}, \n",
    "                      index=['Accuracy', 'Precision', 'Recall', 'F1 Scores'])\n",
    "    if act_train is not None:\n",
    "        accuracy = accuracy_score(act_train, pred_train)\n",
    "        precision = precision_score(act_train, pred_train)\n",
    "        recall = recall_score(act_train, pred_train)\n",
    "        f1 = f1_score(act_train, pred_train)\n",
    "        \n",
    "        df[\"Train\"] = [accuracy, precision, recall, f1]\n",
    "    if act_test is not None:\n",
    "        accuracy = accuracy_score(act_test, pred_test)\n",
    "        precision = precision_score(act_test, pred_test)\n",
    "        recall = recall_score(act_test, pred_test)\n",
    "        f1 = f1_score(act_test, pred_test)\n",
    "        \n",
    "        df[\"Test\"] = [accuracy, precision, recall, f1]\n",
    "        \n",
    "    if act_holdout is not None:\n",
    "        accuracy = accuracy_score(act_holdout, pred_holdout)\n",
    "        precision = precision_score(act_holdout, pred_holdout)\n",
    "        recall = recall_score(act_holdout, pred_holdout)\n",
    "        f1 = f1_score(act_holdout, pred_holdout)\n",
    "        \n",
    "        df[\"Holdout\"] = [accuracy, precision, recall, f1]\n",
    "        \n",
    "    #else:\n",
    "        #return df\n",
    "    \n",
    "    return df\n",
    "    \n",
    "    "
   ]
  },
  {
   "cell_type": "code",
   "execution_count": 47,
   "id": "a7e1fa85",
   "metadata": {},
   "outputs": [],
   "source": [
    "catboost_model = best_model\n",
    "\n",
    "catboost_model.fit(X_train_prepared, y_train)\n",
    "\n",
    "# Make predictions using the best model from GridSearchCV\n",
    "y_pred = catboost_model.predict(X_prepared)\n",
    "y_pred_train = catboost_model.predict(X_train_prepared)\n",
    "y_pred_test = catboost_model.predict(X_test_prepared)\n",
    "y_pred_holdout = catboost_model.predict(X_holdout_prepared)"
   ]
  },
  {
   "cell_type": "code",
   "execution_count": 67,
   "id": "13e0260d",
   "metadata": {},
   "outputs": [
    {
     "data": {
      "text/html": [
       "<div>\n",
       "<style scoped>\n",
       "    .dataframe tbody tr th:only-of-type {\n",
       "        vertical-align: middle;\n",
       "    }\n",
       "\n",
       "    .dataframe tbody tr th {\n",
       "        vertical-align: top;\n",
       "    }\n",
       "\n",
       "    .dataframe thead th {\n",
       "        text-align: right;\n",
       "    }\n",
       "</style>\n",
       "<table border=\"1\" class=\"dataframe\">\n",
       "  <thead>\n",
       "    <tr style=\"text-align: right;\">\n",
       "      <th></th>\n",
       "      <th>Full Data</th>\n",
       "      <th>Train</th>\n",
       "      <th>Test</th>\n",
       "      <th>Holdout</th>\n",
       "    </tr>\n",
       "  </thead>\n",
       "  <tbody>\n",
       "    <tr>\n",
       "      <th>Accuracy</th>\n",
       "      <td>0.936482</td>\n",
       "      <td>0.936911</td>\n",
       "      <td>0.936780</td>\n",
       "      <td>0.934897</td>\n",
       "    </tr>\n",
       "    <tr>\n",
       "      <th>Precision</th>\n",
       "      <td>0.838586</td>\n",
       "      <td>0.838906</td>\n",
       "      <td>0.840098</td>\n",
       "      <td>0.836099</td>\n",
       "    </tr>\n",
       "    <tr>\n",
       "      <th>Recall</th>\n",
       "      <td>0.805491</td>\n",
       "      <td>0.807953</td>\n",
       "      <td>0.805436</td>\n",
       "      <td>0.798162</td>\n",
       "    </tr>\n",
       "    <tr>\n",
       "      <th>F1 Scores</th>\n",
       "      <td>0.821706</td>\n",
       "      <td>0.823139</td>\n",
       "      <td>0.822402</td>\n",
       "      <td>0.816690</td>\n",
       "    </tr>\n",
       "  </tbody>\n",
       "</table>\n",
       "</div>"
      ],
      "text/plain": [
       "           Full Data     Train      Test   Holdout\n",
       "Accuracy    0.936482  0.936911  0.936780  0.934897\n",
       "Precision   0.838586  0.838906  0.840098  0.836099\n",
       "Recall      0.805491  0.807953  0.805436  0.798162\n",
       "F1 Scores   0.821706  0.823139  0.822402  0.816690"
      ]
     },
     "execution_count": 67,
     "metadata": {},
     "output_type": "execute_result"
    }
   ],
   "source": [
    " metric_evaluation(actuals = y,\n",
    "                   preds = y_pred,\n",
    "                   act_train = y_train,\n",
    "                   pred_train = y_pred_train,\n",
    "                   act_test = y_test,\n",
    "                   pred_test = y_pred_test,\n",
    "                   act_holdout = y_holdout,\n",
    "                   pred_holdout = y_pred_holdout)"
   ]
  },
  {
   "cell_type": "markdown",
   "id": "5df7836b",
   "metadata": {},
   "source": [
    "* Accuracy (93.6%): The model performs well overall, correctly predicting most instances.\n",
    "* Precision (83.6%): When the model predicts a positive class, it is correct 89.29% of the time, indicating good reliability in positive predictions.\n",
    "* Recall (80.5): The model captures 85.32% of the actual positive cases, meaning some positives might still be missed.\n",
    "* F1 Score (82.1%): The balance between precision and recall is strong, suggesting the model has a good trade-off between identifying positives and minimizing false positives."
   ]
  },
  {
   "cell_type": "code",
   "execution_count": 68,
   "id": "8e94dc98",
   "metadata": {},
   "outputs": [
    {
     "data": {
      "text/plain": [
       "array([[22242,   784],\n",
       "       [  995,  4119]], dtype=int64)"
      ]
     },
     "execution_count": 68,
     "metadata": {},
     "output_type": "execute_result"
    }
   ],
   "source": [
    "confusion_matrix(y_test, y_pred_test)"
   ]
  },
  {
   "cell_type": "code",
   "execution_count": 69,
   "id": "c152c08e",
   "metadata": {},
   "outputs": [
    {
     "data": {
      "image/png": "[encoded data removed]",
      "text/plain": [
       "<Figure size 640x480 with 2 Axes>"
      ]
     },
     "metadata": {},
     "output_type": "display_data"
    }
   ],
   "source": [
    "from sklearn.metrics import ConfusionMatrixDisplay\n",
    "\n",
    "cm = confusion_matrix(y_test, y_pred_test, labels = catboost_model.classes_)\n",
    "disp = ConfusionMatrixDisplay(confusion_matrix = cm, display_labels = catboost_model.classes_)\n",
    "disp.plot();"
   ]
  },
  {
   "cell_type": "markdown",
   "id": "43afe0bd",
   "metadata": {},
   "source": [
    "**True Negatives (TN): 22,242**\n",
    "\n",
    "    The number of correctly classified negative cases (class 0 predicted as 0).\n",
    "\n",
    "**False Positives (FP): 784**\n",
    "\n",
    "     The number of negative cases incorrectly predicted as positive (class 0 predicted as 1).\n",
    "\n",
    "**False Negatives (FN): 995**\n",
    "\n",
    "    The number of positive cases incorrectly predicted as negative (class 1 predicted as 0).\n",
    "\n",
    "**True Positives (TP): 4,119**\n",
    "\n",
    "    The number of correctly classified positive cases (class 1 predicted as 1)."
   ]
  },
  {
   "cell_type": "code",
   "execution_count": 40,
   "id": "6cd1a26e",
   "metadata": {},
   "outputs": [
    {
     "data": {
      "text/plain": [
       "<sklearn.metrics._plot.roc_curve.RocCurveDisplay at 0x222536f3610>"
      ]
     },
     "execution_count": 40,
     "metadata": {},
     "output_type": "execute_result"
    },
    {
     "data": {
      "image/png": "[encoded data removed]",
      "text/plain": [
       "<Figure size 640x480 with 1 Axes>"
      ]
     },
     "metadata": {},
     "output_type": "display_data"
    }
   ],
   "source": [
    "RocCurveDisplay.from_estimator(estimator = catboost_model, X = X_prepared , y = y)"
   ]
  },
  {
   "cell_type": "markdown",
   "id": "7e66a26d",
   "metadata": {},
   "source": [
    "AUC (Area Under the Curve) = 0.97: This indicates that the model has excellent discriminatory power, meaning it effectively distinguishes between the positive and negative classes. A value close to 1 suggests high performance."
   ]
  },
  {
   "cell_type": "markdown",
   "id": "3b271c87",
   "metadata": {},
   "source": [
    "## 3 Model Saving"
   ]
  },
  {
   "cell_type": "code",
   "execution_count": 73,
   "id": "31c8691b",
   "metadata": {},
   "outputs": [
    {
     "data": {
      "text/plain": [
       "['final_mental_health_CatBoost_model.joblib']"
      ]
     },
     "execution_count": 73,
     "metadata": {},
     "output_type": "execute_result"
    }
   ],
   "source": [
    "# Fitting the final model on all the dataset\n",
    "\n",
    "final_model = best_model\n",
    "final_model.fit(X_prepared, y)\n",
    "\n",
    "#Saving the Poly Convertor and the Final Model\n",
    "dump(final_model,'final_mental_health_CatBoost_model.joblib')\n",
    "\n",
    "#Loading the Model\n",
    "#loaded_model = load('final_benz_price_lr_model.joblib')"
   ]
  },
  {
   "cell_type": "code",
   "execution_count": null,
   "id": "ed4b1c31",
   "metadata": {},
   "outputs": [],
   "source": []
  }
 ],
 "metadata": {
  "kernelspec": {
   "display_name": "Python 3 (ipykernel)",
   "language": "python",
   "name": "python3"
  },
  "language_info": {
   "codemirror_mode": {
    "name": "ipython",
    "version": 3
   },
   "file_extension": ".py",
   "mimetype": "text/x-python",
   "name": "python",
   "nbconvert_exporter": "python",
   "pygments_lexer": "ipython3",
   "version": "3.11.5"
  }
 },
 "nbformat": 4,
 "nbformat_minor": 5
}
